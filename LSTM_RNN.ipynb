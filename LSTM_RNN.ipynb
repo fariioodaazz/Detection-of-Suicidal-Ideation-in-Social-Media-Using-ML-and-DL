{
  "nbformat": 4,
  "nbformat_minor": 0,
  "metadata": {
    "colab": {
      "provenance": [],
      "gpuType": "T4"
    },
    "kernelspec": {
      "name": "python3",
      "display_name": "Python 3"
    },
    "language_info": {
      "name": "python"
    },
    "accelerator": "GPU"
  },
  "cells": [
    {
      "cell_type": "markdown",
      "source": [
        "# LSTM"
      ],
      "metadata": {
        "id": "WmnGJHgGMPvN"
      }
    },
    {
      "cell_type": "code",
      "source": [
        "# 1. Imports\n",
        "import pandas as pd\n",
        "import numpy as np\n",
        "import tensorflow as tf\n",
        "from sklearn.model_selection import train_test_split\n",
        "from sklearn.preprocessing import LabelEncoder , StandardScaler\n",
        "from sklearn.utils.class_weight import compute_class_weight\n",
        "from tensorflow.keras.preprocessing.text import Tokenizer\n",
        "from tensorflow.keras.preprocessing.sequence import pad_sequences\n",
        "from tensorflow.keras.utils import to_categorical\n",
        "from tensorflow.keras.models import Sequential\n",
        "from tensorflow.keras.layers import Embedding, LSTM, SimpleRNN, Dense, Dropout, Bidirectional\n",
        "from tensorflow.keras.callbacks import EarlyStopping\n",
        "import matplotlib.pyplot as plt\n",
        "from sklearn.utils import resample\n",
        "import seaborn as sns"
      ],
      "metadata": {
        "id": "MK-5aEpZM6Zx"
      },
      "execution_count": 32,
      "outputs": []
    },
    {
      "cell_type": "code",
      "source": [
        "# 2. Load dataset\n",
        "df = pd.read_excel('/content/new_relabelled_dataset_0NA.xlsx')\n",
        "df.head()"
      ],
      "metadata": {
        "colab": {
          "base_uri": "https://localhost:8080/",
          "height": 539
        },
        "id": "TBU3tc7RLCKg",
        "outputId": "6e13372e-31a9-41f0-aafb-730bf89d0a93"
      },
      "execution_count": 2,
      "outputs": [
        {
          "output_type": "execute_result",
          "data": {
            "text/plain": [
              "   Unnamed: 0                                      Original_Text  \\\n",
              "0           0  I Don't Want To Live Anymore I don't want to b...   \n",
              "1           1  Lifes a bitch I keep thinking of suicide, the ...   \n",
              "2           2  Why should anyone care if I'm not here? It's o...   \n",
              "3           3  Before I end my life, I'm looking for someone ...   \n",
              "4           4  I can't stop having ideations about salt poiso...   \n",
              "\n",
              "                                        Cleaned_Text  Score  \\\n",
              "0  dont want live anymore dont want alive family ...      1   \n",
              "1  lifes bitch keep thinking suicide methods coul...      1   \n",
              "2  anyone care im one less person worry insert ce...      1   \n",
              "3  end life im looking someone adopt dog hi im vi...      1   \n",
              "4  cant stop ideations salt poisoning cant stop t...      1   \n",
              "\n",
              "            Created_At  Hour_of_Day  Night_Post  Word_Count  \\\n",
              "0  2025-05-31 05:56:08            5           1          41   \n",
              "1  2025-05-31 06:01:58            6           0          81   \n",
              "2  2025-05-31 06:20:52            6           0          41   \n",
              "3  2025-05-31 06:52:54            6           0          84   \n",
              "4  2025-05-31 11:46:36           11           0          36   \n",
              "\n",
              "  Word_Length_Category  Subjectivity  Negative_Score  Neutral_Score  \\\n",
              "0            Very Long      0.342857        0.914468       0.074961   \n",
              "1            Very Long      0.595754        0.604587       0.298809   \n",
              "2            Very Long      0.352381        0.571609       0.379095   \n",
              "3            Very Long      0.528788        0.843974       0.145270   \n",
              "4            Very Long      0.750000        0.065900       0.280841   \n",
              "\n",
              "   Positive_Score   Suicide_Risk  \n",
              "0        0.010571      High Risk  \n",
              "1        0.096604  Moderate Risk  \n",
              "2        0.049296       Low Risk  \n",
              "3        0.010756      High Risk  \n",
              "4        0.653260  Moderate Risk  "
            ],
            "text/html": [
              "\n",
              "  <div id=\"df-521c0d39-dba4-41ff-ac08-bcb0f41f5b0c\" class=\"colab-df-container\">\n",
              "    <div>\n",
              "<style scoped>\n",
              "    .dataframe tbody tr th:only-of-type {\n",
              "        vertical-align: middle;\n",
              "    }\n",
              "\n",
              "    .dataframe tbody tr th {\n",
              "        vertical-align: top;\n",
              "    }\n",
              "\n",
              "    .dataframe thead th {\n",
              "        text-align: right;\n",
              "    }\n",
              "</style>\n",
              "<table border=\"1\" class=\"dataframe\">\n",
              "  <thead>\n",
              "    <tr style=\"text-align: right;\">\n",
              "      <th></th>\n",
              "      <th>Unnamed: 0</th>\n",
              "      <th>Original_Text</th>\n",
              "      <th>Cleaned_Text</th>\n",
              "      <th>Score</th>\n",
              "      <th>Created_At</th>\n",
              "      <th>Hour_of_Day</th>\n",
              "      <th>Night_Post</th>\n",
              "      <th>Word_Count</th>\n",
              "      <th>Word_Length_Category</th>\n",
              "      <th>Subjectivity</th>\n",
              "      <th>Negative_Score</th>\n",
              "      <th>Neutral_Score</th>\n",
              "      <th>Positive_Score</th>\n",
              "      <th>Suicide_Risk</th>\n",
              "    </tr>\n",
              "  </thead>\n",
              "  <tbody>\n",
              "    <tr>\n",
              "      <th>0</th>\n",
              "      <td>0</td>\n",
              "      <td>I Don't Want To Live Anymore I don't want to b...</td>\n",
              "      <td>dont want live anymore dont want alive family ...</td>\n",
              "      <td>1</td>\n",
              "      <td>2025-05-31 05:56:08</td>\n",
              "      <td>5</td>\n",
              "      <td>1</td>\n",
              "      <td>41</td>\n",
              "      <td>Very Long</td>\n",
              "      <td>0.342857</td>\n",
              "      <td>0.914468</td>\n",
              "      <td>0.074961</td>\n",
              "      <td>0.010571</td>\n",
              "      <td>High Risk</td>\n",
              "    </tr>\n",
              "    <tr>\n",
              "      <th>1</th>\n",
              "      <td>1</td>\n",
              "      <td>Lifes a bitch I keep thinking of suicide, the ...</td>\n",
              "      <td>lifes bitch keep thinking suicide methods coul...</td>\n",
              "      <td>1</td>\n",
              "      <td>2025-05-31 06:01:58</td>\n",
              "      <td>6</td>\n",
              "      <td>0</td>\n",
              "      <td>81</td>\n",
              "      <td>Very Long</td>\n",
              "      <td>0.595754</td>\n",
              "      <td>0.604587</td>\n",
              "      <td>0.298809</td>\n",
              "      <td>0.096604</td>\n",
              "      <td>Moderate Risk</td>\n",
              "    </tr>\n",
              "    <tr>\n",
              "      <th>2</th>\n",
              "      <td>2</td>\n",
              "      <td>Why should anyone care if I'm not here? It's o...</td>\n",
              "      <td>anyone care im one less person worry insert ce...</td>\n",
              "      <td>1</td>\n",
              "      <td>2025-05-31 06:20:52</td>\n",
              "      <td>6</td>\n",
              "      <td>0</td>\n",
              "      <td>41</td>\n",
              "      <td>Very Long</td>\n",
              "      <td>0.352381</td>\n",
              "      <td>0.571609</td>\n",
              "      <td>0.379095</td>\n",
              "      <td>0.049296</td>\n",
              "      <td>Low Risk</td>\n",
              "    </tr>\n",
              "    <tr>\n",
              "      <th>3</th>\n",
              "      <td>3</td>\n",
              "      <td>Before I end my life, I'm looking for someone ...</td>\n",
              "      <td>end life im looking someone adopt dog hi im vi...</td>\n",
              "      <td>1</td>\n",
              "      <td>2025-05-31 06:52:54</td>\n",
              "      <td>6</td>\n",
              "      <td>0</td>\n",
              "      <td>84</td>\n",
              "      <td>Very Long</td>\n",
              "      <td>0.528788</td>\n",
              "      <td>0.843974</td>\n",
              "      <td>0.145270</td>\n",
              "      <td>0.010756</td>\n",
              "      <td>High Risk</td>\n",
              "    </tr>\n",
              "    <tr>\n",
              "      <th>4</th>\n",
              "      <td>4</td>\n",
              "      <td>I can't stop having ideations about salt poiso...</td>\n",
              "      <td>cant stop ideations salt poisoning cant stop t...</td>\n",
              "      <td>1</td>\n",
              "      <td>2025-05-31 11:46:36</td>\n",
              "      <td>11</td>\n",
              "      <td>0</td>\n",
              "      <td>36</td>\n",
              "      <td>Very Long</td>\n",
              "      <td>0.750000</td>\n",
              "      <td>0.065900</td>\n",
              "      <td>0.280841</td>\n",
              "      <td>0.653260</td>\n",
              "      <td>Moderate Risk</td>\n",
              "    </tr>\n",
              "  </tbody>\n",
              "</table>\n",
              "</div>\n",
              "    <div class=\"colab-df-buttons\">\n",
              "\n",
              "  <div class=\"colab-df-container\">\n",
              "    <button class=\"colab-df-convert\" onclick=\"convertToInteractive('df-521c0d39-dba4-41ff-ac08-bcb0f41f5b0c')\"\n",
              "            title=\"Convert this dataframe to an interactive table.\"\n",
              "            style=\"display:none;\">\n",
              "\n",
              "  <svg xmlns=\"http://www.w3.org/2000/svg\" height=\"24px\" viewBox=\"0 -960 960 960\">\n",
              "    <path d=\"M120-120v-720h720v720H120Zm60-500h600v-160H180v160Zm220 220h160v-160H400v160Zm0 220h160v-160H400v160ZM180-400h160v-160H180v160Zm440 0h160v-160H620v160ZM180-180h160v-160H180v160Zm440 0h160v-160H620v160Z\"/>\n",
              "  </svg>\n",
              "    </button>\n",
              "\n",
              "  <style>\n",
              "    .colab-df-container {\n",
              "      display:flex;\n",
              "      gap: 12px;\n",
              "    }\n",
              "\n",
              "    .colab-df-convert {\n",
              "      background-color: #E8F0FE;\n",
              "      border: none;\n",
              "      border-radius: 50%;\n",
              "      cursor: pointer;\n",
              "      display: none;\n",
              "      fill: #1967D2;\n",
              "      height: 32px;\n",
              "      padding: 0 0 0 0;\n",
              "      width: 32px;\n",
              "    }\n",
              "\n",
              "    .colab-df-convert:hover {\n",
              "      background-color: #E2EBFA;\n",
              "      box-shadow: 0px 1px 2px rgba(60, 64, 67, 0.3), 0px 1px 3px 1px rgba(60, 64, 67, 0.15);\n",
              "      fill: #174EA6;\n",
              "    }\n",
              "\n",
              "    .colab-df-buttons div {\n",
              "      margin-bottom: 4px;\n",
              "    }\n",
              "\n",
              "    [theme=dark] .colab-df-convert {\n",
              "      background-color: #3B4455;\n",
              "      fill: #D2E3FC;\n",
              "    }\n",
              "\n",
              "    [theme=dark] .colab-df-convert:hover {\n",
              "      background-color: #434B5C;\n",
              "      box-shadow: 0px 1px 3px 1px rgba(0, 0, 0, 0.15);\n",
              "      filter: drop-shadow(0px 1px 2px rgba(0, 0, 0, 0.3));\n",
              "      fill: #FFFFFF;\n",
              "    }\n",
              "  </style>\n",
              "\n",
              "    <script>\n",
              "      const buttonEl =\n",
              "        document.querySelector('#df-521c0d39-dba4-41ff-ac08-bcb0f41f5b0c button.colab-df-convert');\n",
              "      buttonEl.style.display =\n",
              "        google.colab.kernel.accessAllowed ? 'block' : 'none';\n",
              "\n",
              "      async function convertToInteractive(key) {\n",
              "        const element = document.querySelector('#df-521c0d39-dba4-41ff-ac08-bcb0f41f5b0c');\n",
              "        const dataTable =\n",
              "          await google.colab.kernel.invokeFunction('convertToInteractive',\n",
              "                                                    [key], {});\n",
              "        if (!dataTable) return;\n",
              "\n",
              "        const docLinkHtml = 'Like what you see? Visit the ' +\n",
              "          '<a target=\"_blank\" href=https://colab.research.google.com/notebooks/data_table.ipynb>data table notebook</a>'\n",
              "          + ' to learn more about interactive tables.';\n",
              "        element.innerHTML = '';\n",
              "        dataTable['output_type'] = 'display_data';\n",
              "        await google.colab.output.renderOutput(dataTable, element);\n",
              "        const docLink = document.createElement('div');\n",
              "        docLink.innerHTML = docLinkHtml;\n",
              "        element.appendChild(docLink);\n",
              "      }\n",
              "    </script>\n",
              "  </div>\n",
              "\n",
              "\n",
              "    <div id=\"df-8f43c2a7-9bb9-4d26-b70b-47bcd9e96d1a\">\n",
              "      <button class=\"colab-df-quickchart\" onclick=\"quickchart('df-8f43c2a7-9bb9-4d26-b70b-47bcd9e96d1a')\"\n",
              "                title=\"Suggest charts\"\n",
              "                style=\"display:none;\">\n",
              "\n",
              "<svg xmlns=\"http://www.w3.org/2000/svg\" height=\"24px\"viewBox=\"0 0 24 24\"\n",
              "     width=\"24px\">\n",
              "    <g>\n",
              "        <path d=\"M19 3H5c-1.1 0-2 .9-2 2v14c0 1.1.9 2 2 2h14c1.1 0 2-.9 2-2V5c0-1.1-.9-2-2-2zM9 17H7v-7h2v7zm4 0h-2V7h2v10zm4 0h-2v-4h2v4z\"/>\n",
              "    </g>\n",
              "</svg>\n",
              "      </button>\n",
              "\n",
              "<style>\n",
              "  .colab-df-quickchart {\n",
              "      --bg-color: #E8F0FE;\n",
              "      --fill-color: #1967D2;\n",
              "      --hover-bg-color: #E2EBFA;\n",
              "      --hover-fill-color: #174EA6;\n",
              "      --disabled-fill-color: #AAA;\n",
              "      --disabled-bg-color: #DDD;\n",
              "  }\n",
              "\n",
              "  [theme=dark] .colab-df-quickchart {\n",
              "      --bg-color: #3B4455;\n",
              "      --fill-color: #D2E3FC;\n",
              "      --hover-bg-color: #434B5C;\n",
              "      --hover-fill-color: #FFFFFF;\n",
              "      --disabled-bg-color: #3B4455;\n",
              "      --disabled-fill-color: #666;\n",
              "  }\n",
              "\n",
              "  .colab-df-quickchart {\n",
              "    background-color: var(--bg-color);\n",
              "    border: none;\n",
              "    border-radius: 50%;\n",
              "    cursor: pointer;\n",
              "    display: none;\n",
              "    fill: var(--fill-color);\n",
              "    height: 32px;\n",
              "    padding: 0;\n",
              "    width: 32px;\n",
              "  }\n",
              "\n",
              "  .colab-df-quickchart:hover {\n",
              "    background-color: var(--hover-bg-color);\n",
              "    box-shadow: 0 1px 2px rgba(60, 64, 67, 0.3), 0 1px 3px 1px rgba(60, 64, 67, 0.15);\n",
              "    fill: var(--button-hover-fill-color);\n",
              "  }\n",
              "\n",
              "  .colab-df-quickchart-complete:disabled,\n",
              "  .colab-df-quickchart-complete:disabled:hover {\n",
              "    background-color: var(--disabled-bg-color);\n",
              "    fill: var(--disabled-fill-color);\n",
              "    box-shadow: none;\n",
              "  }\n",
              "\n",
              "  .colab-df-spinner {\n",
              "    border: 2px solid var(--fill-color);\n",
              "    border-color: transparent;\n",
              "    border-bottom-color: var(--fill-color);\n",
              "    animation:\n",
              "      spin 1s steps(1) infinite;\n",
              "  }\n",
              "\n",
              "  @keyframes spin {\n",
              "    0% {\n",
              "      border-color: transparent;\n",
              "      border-bottom-color: var(--fill-color);\n",
              "      border-left-color: var(--fill-color);\n",
              "    }\n",
              "    20% {\n",
              "      border-color: transparent;\n",
              "      border-left-color: var(--fill-color);\n",
              "      border-top-color: var(--fill-color);\n",
              "    }\n",
              "    30% {\n",
              "      border-color: transparent;\n",
              "      border-left-color: var(--fill-color);\n",
              "      border-top-color: var(--fill-color);\n",
              "      border-right-color: var(--fill-color);\n",
              "    }\n",
              "    40% {\n",
              "      border-color: transparent;\n",
              "      border-right-color: var(--fill-color);\n",
              "      border-top-color: var(--fill-color);\n",
              "    }\n",
              "    60% {\n",
              "      border-color: transparent;\n",
              "      border-right-color: var(--fill-color);\n",
              "    }\n",
              "    80% {\n",
              "      border-color: transparent;\n",
              "      border-right-color: var(--fill-color);\n",
              "      border-bottom-color: var(--fill-color);\n",
              "    }\n",
              "    90% {\n",
              "      border-color: transparent;\n",
              "      border-bottom-color: var(--fill-color);\n",
              "    }\n",
              "  }\n",
              "</style>\n",
              "\n",
              "      <script>\n",
              "        async function quickchart(key) {\n",
              "          const quickchartButtonEl =\n",
              "            document.querySelector('#' + key + ' button');\n",
              "          quickchartButtonEl.disabled = true;  // To prevent multiple clicks.\n",
              "          quickchartButtonEl.classList.add('colab-df-spinner');\n",
              "          try {\n",
              "            const charts = await google.colab.kernel.invokeFunction(\n",
              "                'suggestCharts', [key], {});\n",
              "          } catch (error) {\n",
              "            console.error('Error during call to suggestCharts:', error);\n",
              "          }\n",
              "          quickchartButtonEl.classList.remove('colab-df-spinner');\n",
              "          quickchartButtonEl.classList.add('colab-df-quickchart-complete');\n",
              "        }\n",
              "        (() => {\n",
              "          let quickchartButtonEl =\n",
              "            document.querySelector('#df-8f43c2a7-9bb9-4d26-b70b-47bcd9e96d1a button');\n",
              "          quickchartButtonEl.style.display =\n",
              "            google.colab.kernel.accessAllowed ? 'block' : 'none';\n",
              "        })();\n",
              "      </script>\n",
              "    </div>\n",
              "\n",
              "    </div>\n",
              "  </div>\n"
            ],
            "application/vnd.google.colaboratory.intrinsic+json": {
              "type": "dataframe",
              "variable_name": "df",
              "summary": "{\n  \"name\": \"df\",\n  \"rows\": 38288,\n  \"fields\": [\n    {\n      \"column\": \"Unnamed: 0\",\n      \"properties\": {\n        \"dtype\": \"number\",\n        \"std\": 11052,\n        \"min\": 0,\n        \"max\": 38287,\n        \"num_unique_values\": 38288,\n        \"samples\": [\n          34076,\n          32504,\n          25420\n        ],\n        \"semantic_type\": \"\",\n        \"description\": \"\"\n      }\n    },\n    {\n      \"column\": \"Original_Text\",\n      \"properties\": {\n        \"dtype\": \"string\",\n        \"num_unique_values\": 35736,\n        \"samples\": [\n          \"Seriously, people need to understand giving birth to a kid means bringing a conscious being into this shitty horrible world. It is a big deal and i fucking hate it when poor/unhealthy/abnormal/alcoholic people decide to have kids. Like, excuse me? You can't even guarantee if your child can grow up happily. Probably can't.\",\n          \":p\\n\\nhad to hear non-sense accusations today, after *she* went mad and did something startling impulsively.\",\n          \"I PROMISE you, god will never hate you for anything you do. None of this was your fault, and having an abortion would not make you an evil person or unworthy of anyone\\u2019s love, especially god\\u2019s love. The people in your church do not actually follow Christianity if they are treating you this way. This isn\\u2019t a blessing and you don\\u2019t need to accept that from them. You are not a \\u201cwhore\\u201d or damaged or broken. You are a human being who is wholly deserving of love. I am so so sorry this happened, and I truly hope you\\u2019re able to find true help with this, and peace \\ud83d\\udc9c\\ud83d\\udc9c\\ud83d\\udc9c\"\n        ],\n        \"semantic_type\": \"\",\n        \"description\": \"\"\n      }\n    },\n    {\n      \"column\": \"Cleaned_Text\",\n      \"properties\": {\n        \"dtype\": \"string\",\n        \"num_unique_values\": 34918,\n        \"samples\": [\n          \"yep ive usedi know\",\n          \"im normal guy step campus sit room hell\",\n          \"ever looked imaging cell thought holy shit thats amazing even seemingly insignificant dot mindblowing youre able zoom really see think people im blown away human beings capable whole shocking amazing never really knew beauty zoomed started really getting know people everybody something value everybody something learn everybody something teach always encourage people start zoom find things worth marveling others usually follow even dont youll know insanely unlikely profound even opportunity exist yes may tiny scheme universe fact youre alive even chance astoundingly unlikely self makes miracle thank sharing part story learned something today\"\n        ],\n        \"semantic_type\": \"\",\n        \"description\": \"\"\n      }\n    },\n    {\n      \"column\": \"Score\",\n      \"properties\": {\n        \"dtype\": \"number\",\n        \"std\": 380,\n        \"min\": -85,\n        \"max\": 23027,\n        \"num_unique_values\": 858,\n        \"samples\": [\n          299,\n          392,\n          192\n        ],\n        \"semantic_type\": \"\",\n        \"description\": \"\"\n      }\n    },\n    {\n      \"column\": \"Created_At\",\n      \"properties\": {\n        \"dtype\": \"object\",\n        \"num_unique_values\": 36065,\n        \"samples\": [\n          \"2020-09-19 08:55:59\",\n          \"2020-03-03 17:06:15\",\n          \"2020-11-20 03:43:39\"\n        ],\n        \"semantic_type\": \"\",\n        \"description\": \"\"\n      }\n    },\n    {\n      \"column\": \"Hour_of_Day\",\n      \"properties\": {\n        \"dtype\": \"number\",\n        \"std\": 7,\n        \"min\": 0,\n        \"max\": 23,\n        \"num_unique_values\": 24,\n        \"samples\": [\n          3,\n          19,\n          5\n        ],\n        \"semantic_type\": \"\",\n        \"description\": \"\"\n      }\n    },\n    {\n      \"column\": \"Night_Post\",\n      \"properties\": {\n        \"dtype\": \"number\",\n        \"std\": 0,\n        \"min\": 0,\n        \"max\": 1,\n        \"num_unique_values\": 2,\n        \"samples\": [\n          0,\n          1\n        ],\n        \"semantic_type\": \"\",\n        \"description\": \"\"\n      }\n    },\n    {\n      \"column\": \"Word_Count\",\n      \"properties\": {\n        \"dtype\": \"number\",\n        \"std\": 46,\n        \"min\": 1,\n        \"max\": 1930,\n        \"num_unique_values\": 374,\n        \"samples\": [\n          464,\n          50\n        ],\n        \"semantic_type\": \"\",\n        \"description\": \"\"\n      }\n    },\n    {\n      \"column\": \"Word_Length_Category\",\n      \"properties\": {\n        \"dtype\": \"category\",\n        \"num_unique_values\": 3,\n        \"samples\": [\n          \"Very Long\",\n          \"Normal\"\n        ],\n        \"semantic_type\": \"\",\n        \"description\": \"\"\n      }\n    },\n    {\n      \"column\": \"Subjectivity\",\n      \"properties\": {\n        \"dtype\": \"number\",\n        \"std\": 0.2795766984865767,\n        \"min\": 0.0,\n        \"max\": 1.0,\n        \"num_unique_values\": 7351,\n        \"samples\": [\n          0.6030357142857143,\n          0.4951428571428571\n        ],\n        \"semantic_type\": \"\",\n        \"description\": \"\"\n      }\n    },\n    {\n      \"column\": \"Negative_Score\",\n      \"properties\": {\n        \"dtype\": \"number\",\n        \"std\": 0.3417971295293381,\n        \"min\": 0.0010391651885584,\n        \"max\": 0.9845851063728333,\n        \"num_unique_values\": 34884,\n        \"samples\": [\n          0.430753231048584,\n          0.5923597812652588\n        ],\n        \"semantic_type\": \"\",\n        \"description\": \"\"\n      }\n    },\n    {\n      \"column\": \"Neutral_Score\",\n      \"properties\": {\n        \"dtype\": \"number\",\n        \"std\": 0.2299131638992979,\n        \"min\": 0.00574225839227438,\n        \"max\": 0.9387086033821106,\n        \"num_unique_values\": 34889,\n        \"samples\": [\n          0.04538810253143311,\n          0.03925706818699837\n        ],\n        \"semantic_type\": \"\",\n        \"description\": \"\"\n      }\n    },\n    {\n      \"column\": \"Positive_Score\",\n      \"properties\": {\n        \"dtype\": \"number\",\n        \"std\": 0.26775681463141116,\n        \"min\": 0.001694061909802258,\n        \"max\": 0.992597222328186,\n        \"num_unique_values\": 34903,\n        \"samples\": [\n          0.08194758743047714,\n          0.01167475804686546\n        ],\n        \"semantic_type\": \"\",\n        \"description\": \"\"\n      }\n    },\n    {\n      \"column\": \"Suicide_Risk\",\n      \"properties\": {\n        \"dtype\": \"category\",\n        \"num_unique_values\": 4,\n        \"samples\": [\n          \"Moderate Risk\",\n          \"Minimal Concern\"\n        ],\n        \"semantic_type\": \"\",\n        \"description\": \"\"\n      }\n    }\n  ]\n}"
            }
          },
          "metadata": {},
          "execution_count": 2
        }
      ]
    },
    {
      "cell_type": "code",
      "source": [
        "df.isna().sum()"
      ],
      "metadata": {
        "colab": {
          "base_uri": "https://localhost:8080/",
          "height": 523
        },
        "id": "W3bFHIs2MW6x",
        "outputId": "409e11a5-e5b9-41d8-fed9-0c323406b4a3"
      },
      "execution_count": 3,
      "outputs": [
        {
          "output_type": "execute_result",
          "data": {
            "text/plain": [
              "Unnamed: 0              0\n",
              "Original_Text           0\n",
              "Cleaned_Text            0\n",
              "Score                   0\n",
              "Created_At              0\n",
              "Hour_of_Day             0\n",
              "Night_Post              0\n",
              "Word_Count              0\n",
              "Word_Length_Category    0\n",
              "Subjectivity            0\n",
              "Negative_Score          0\n",
              "Neutral_Score           0\n",
              "Positive_Score          0\n",
              "Suicide_Risk            0\n",
              "dtype: int64"
            ],
            "text/html": [
              "<div>\n",
              "<style scoped>\n",
              "    .dataframe tbody tr th:only-of-type {\n",
              "        vertical-align: middle;\n",
              "    }\n",
              "\n",
              "    .dataframe tbody tr th {\n",
              "        vertical-align: top;\n",
              "    }\n",
              "\n",
              "    .dataframe thead th {\n",
              "        text-align: right;\n",
              "    }\n",
              "</style>\n",
              "<table border=\"1\" class=\"dataframe\">\n",
              "  <thead>\n",
              "    <tr style=\"text-align: right;\">\n",
              "      <th></th>\n",
              "      <th>0</th>\n",
              "    </tr>\n",
              "  </thead>\n",
              "  <tbody>\n",
              "    <tr>\n",
              "      <th>Unnamed: 0</th>\n",
              "      <td>0</td>\n",
              "    </tr>\n",
              "    <tr>\n",
              "      <th>Original_Text</th>\n",
              "      <td>0</td>\n",
              "    </tr>\n",
              "    <tr>\n",
              "      <th>Cleaned_Text</th>\n",
              "      <td>0</td>\n",
              "    </tr>\n",
              "    <tr>\n",
              "      <th>Score</th>\n",
              "      <td>0</td>\n",
              "    </tr>\n",
              "    <tr>\n",
              "      <th>Created_At</th>\n",
              "      <td>0</td>\n",
              "    </tr>\n",
              "    <tr>\n",
              "      <th>Hour_of_Day</th>\n",
              "      <td>0</td>\n",
              "    </tr>\n",
              "    <tr>\n",
              "      <th>Night_Post</th>\n",
              "      <td>0</td>\n",
              "    </tr>\n",
              "    <tr>\n",
              "      <th>Word_Count</th>\n",
              "      <td>0</td>\n",
              "    </tr>\n",
              "    <tr>\n",
              "      <th>Word_Length_Category</th>\n",
              "      <td>0</td>\n",
              "    </tr>\n",
              "    <tr>\n",
              "      <th>Subjectivity</th>\n",
              "      <td>0</td>\n",
              "    </tr>\n",
              "    <tr>\n",
              "      <th>Negative_Score</th>\n",
              "      <td>0</td>\n",
              "    </tr>\n",
              "    <tr>\n",
              "      <th>Neutral_Score</th>\n",
              "      <td>0</td>\n",
              "    </tr>\n",
              "    <tr>\n",
              "      <th>Positive_Score</th>\n",
              "      <td>0</td>\n",
              "    </tr>\n",
              "    <tr>\n",
              "      <th>Suicide_Risk</th>\n",
              "      <td>0</td>\n",
              "    </tr>\n",
              "  </tbody>\n",
              "</table>\n",
              "</div><br><label><b>dtype:</b> int64</label>"
            ]
          },
          "metadata": {},
          "execution_count": 3
        }
      ]
    },
    {
      "cell_type": "code",
      "source": [
        "df = df.drop(columns=[\"Unnamed: 0\"])\n",
        "df.head()"
      ],
      "metadata": {
        "colab": {
          "base_uri": "https://localhost:8080/",
          "height": 521
        },
        "id": "7lXo_3ojfYYI",
        "outputId": "c181fdc3-6530-4689-9aaf-92bacdea6a94"
      },
      "execution_count": 4,
      "outputs": [
        {
          "output_type": "execute_result",
          "data": {
            "text/plain": [
              "                                       Original_Text  \\\n",
              "0  I Don't Want To Live Anymore I don't want to b...   \n",
              "1  Lifes a bitch I keep thinking of suicide, the ...   \n",
              "2  Why should anyone care if I'm not here? It's o...   \n",
              "3  Before I end my life, I'm looking for someone ...   \n",
              "4  I can't stop having ideations about salt poiso...   \n",
              "\n",
              "                                        Cleaned_Text  Score  \\\n",
              "0  dont want live anymore dont want alive family ...      1   \n",
              "1  lifes bitch keep thinking suicide methods coul...      1   \n",
              "2  anyone care im one less person worry insert ce...      1   \n",
              "3  end life im looking someone adopt dog hi im vi...      1   \n",
              "4  cant stop ideations salt poisoning cant stop t...      1   \n",
              "\n",
              "            Created_At  Hour_of_Day  Night_Post  Word_Count  \\\n",
              "0  2025-05-31 05:56:08            5           1          41   \n",
              "1  2025-05-31 06:01:58            6           0          81   \n",
              "2  2025-05-31 06:20:52            6           0          41   \n",
              "3  2025-05-31 06:52:54            6           0          84   \n",
              "4  2025-05-31 11:46:36           11           0          36   \n",
              "\n",
              "  Word_Length_Category  Subjectivity  Negative_Score  Neutral_Score  \\\n",
              "0            Very Long      0.342857        0.914468       0.074961   \n",
              "1            Very Long      0.595754        0.604587       0.298809   \n",
              "2            Very Long      0.352381        0.571609       0.379095   \n",
              "3            Very Long      0.528788        0.843974       0.145270   \n",
              "4            Very Long      0.750000        0.065900       0.280841   \n",
              "\n",
              "   Positive_Score   Suicide_Risk  \n",
              "0        0.010571      High Risk  \n",
              "1        0.096604  Moderate Risk  \n",
              "2        0.049296       Low Risk  \n",
              "3        0.010756      High Risk  \n",
              "4        0.653260  Moderate Risk  "
            ],
            "text/html": [
              "\n",
              "  <div id=\"df-666e724c-c64d-466a-b50a-7f03306b7d49\" class=\"colab-df-container\">\n",
              "    <div>\n",
              "<style scoped>\n",
              "    .dataframe tbody tr th:only-of-type {\n",
              "        vertical-align: middle;\n",
              "    }\n",
              "\n",
              "    .dataframe tbody tr th {\n",
              "        vertical-align: top;\n",
              "    }\n",
              "\n",
              "    .dataframe thead th {\n",
              "        text-align: right;\n",
              "    }\n",
              "</style>\n",
              "<table border=\"1\" class=\"dataframe\">\n",
              "  <thead>\n",
              "    <tr style=\"text-align: right;\">\n",
              "      <th></th>\n",
              "      <th>Original_Text</th>\n",
              "      <th>Cleaned_Text</th>\n",
              "      <th>Score</th>\n",
              "      <th>Created_At</th>\n",
              "      <th>Hour_of_Day</th>\n",
              "      <th>Night_Post</th>\n",
              "      <th>Word_Count</th>\n",
              "      <th>Word_Length_Category</th>\n",
              "      <th>Subjectivity</th>\n",
              "      <th>Negative_Score</th>\n",
              "      <th>Neutral_Score</th>\n",
              "      <th>Positive_Score</th>\n",
              "      <th>Suicide_Risk</th>\n",
              "    </tr>\n",
              "  </thead>\n",
              "  <tbody>\n",
              "    <tr>\n",
              "      <th>0</th>\n",
              "      <td>I Don't Want To Live Anymore I don't want to b...</td>\n",
              "      <td>dont want live anymore dont want alive family ...</td>\n",
              "      <td>1</td>\n",
              "      <td>2025-05-31 05:56:08</td>\n",
              "      <td>5</td>\n",
              "      <td>1</td>\n",
              "      <td>41</td>\n",
              "      <td>Very Long</td>\n",
              "      <td>0.342857</td>\n",
              "      <td>0.914468</td>\n",
              "      <td>0.074961</td>\n",
              "      <td>0.010571</td>\n",
              "      <td>High Risk</td>\n",
              "    </tr>\n",
              "    <tr>\n",
              "      <th>1</th>\n",
              "      <td>Lifes a bitch I keep thinking of suicide, the ...</td>\n",
              "      <td>lifes bitch keep thinking suicide methods coul...</td>\n",
              "      <td>1</td>\n",
              "      <td>2025-05-31 06:01:58</td>\n",
              "      <td>6</td>\n",
              "      <td>0</td>\n",
              "      <td>81</td>\n",
              "      <td>Very Long</td>\n",
              "      <td>0.595754</td>\n",
              "      <td>0.604587</td>\n",
              "      <td>0.298809</td>\n",
              "      <td>0.096604</td>\n",
              "      <td>Moderate Risk</td>\n",
              "    </tr>\n",
              "    <tr>\n",
              "      <th>2</th>\n",
              "      <td>Why should anyone care if I'm not here? It's o...</td>\n",
              "      <td>anyone care im one less person worry insert ce...</td>\n",
              "      <td>1</td>\n",
              "      <td>2025-05-31 06:20:52</td>\n",
              "      <td>6</td>\n",
              "      <td>0</td>\n",
              "      <td>41</td>\n",
              "      <td>Very Long</td>\n",
              "      <td>0.352381</td>\n",
              "      <td>0.571609</td>\n",
              "      <td>0.379095</td>\n",
              "      <td>0.049296</td>\n",
              "      <td>Low Risk</td>\n",
              "    </tr>\n",
              "    <tr>\n",
              "      <th>3</th>\n",
              "      <td>Before I end my life, I'm looking for someone ...</td>\n",
              "      <td>end life im looking someone adopt dog hi im vi...</td>\n",
              "      <td>1</td>\n",
              "      <td>2025-05-31 06:52:54</td>\n",
              "      <td>6</td>\n",
              "      <td>0</td>\n",
              "      <td>84</td>\n",
              "      <td>Very Long</td>\n",
              "      <td>0.528788</td>\n",
              "      <td>0.843974</td>\n",
              "      <td>0.145270</td>\n",
              "      <td>0.010756</td>\n",
              "      <td>High Risk</td>\n",
              "    </tr>\n",
              "    <tr>\n",
              "      <th>4</th>\n",
              "      <td>I can't stop having ideations about salt poiso...</td>\n",
              "      <td>cant stop ideations salt poisoning cant stop t...</td>\n",
              "      <td>1</td>\n",
              "      <td>2025-05-31 11:46:36</td>\n",
              "      <td>11</td>\n",
              "      <td>0</td>\n",
              "      <td>36</td>\n",
              "      <td>Very Long</td>\n",
              "      <td>0.750000</td>\n",
              "      <td>0.065900</td>\n",
              "      <td>0.280841</td>\n",
              "      <td>0.653260</td>\n",
              "      <td>Moderate Risk</td>\n",
              "    </tr>\n",
              "  </tbody>\n",
              "</table>\n",
              "</div>\n",
              "    <div class=\"colab-df-buttons\">\n",
              "\n",
              "  <div class=\"colab-df-container\">\n",
              "    <button class=\"colab-df-convert\" onclick=\"convertToInteractive('df-666e724c-c64d-466a-b50a-7f03306b7d49')\"\n",
              "            title=\"Convert this dataframe to an interactive table.\"\n",
              "            style=\"display:none;\">\n",
              "\n",
              "  <svg xmlns=\"http://www.w3.org/2000/svg\" height=\"24px\" viewBox=\"0 -960 960 960\">\n",
              "    <path d=\"M120-120v-720h720v720H120Zm60-500h600v-160H180v160Zm220 220h160v-160H400v160Zm0 220h160v-160H400v160ZM180-400h160v-160H180v160Zm440 0h160v-160H620v160ZM180-180h160v-160H180v160Zm440 0h160v-160H620v160Z\"/>\n",
              "  </svg>\n",
              "    </button>\n",
              "\n",
              "  <style>\n",
              "    .colab-df-container {\n",
              "      display:flex;\n",
              "      gap: 12px;\n",
              "    }\n",
              "\n",
              "    .colab-df-convert {\n",
              "      background-color: #E8F0FE;\n",
              "      border: none;\n",
              "      border-radius: 50%;\n",
              "      cursor: pointer;\n",
              "      display: none;\n",
              "      fill: #1967D2;\n",
              "      height: 32px;\n",
              "      padding: 0 0 0 0;\n",
              "      width: 32px;\n",
              "    }\n",
              "\n",
              "    .colab-df-convert:hover {\n",
              "      background-color: #E2EBFA;\n",
              "      box-shadow: 0px 1px 2px rgba(60, 64, 67, 0.3), 0px 1px 3px 1px rgba(60, 64, 67, 0.15);\n",
              "      fill: #174EA6;\n",
              "    }\n",
              "\n",
              "    .colab-df-buttons div {\n",
              "      margin-bottom: 4px;\n",
              "    }\n",
              "\n",
              "    [theme=dark] .colab-df-convert {\n",
              "      background-color: #3B4455;\n",
              "      fill: #D2E3FC;\n",
              "    }\n",
              "\n",
              "    [theme=dark] .colab-df-convert:hover {\n",
              "      background-color: #434B5C;\n",
              "      box-shadow: 0px 1px 3px 1px rgba(0, 0, 0, 0.15);\n",
              "      filter: drop-shadow(0px 1px 2px rgba(0, 0, 0, 0.3));\n",
              "      fill: #FFFFFF;\n",
              "    }\n",
              "  </style>\n",
              "\n",
              "    <script>\n",
              "      const buttonEl =\n",
              "        document.querySelector('#df-666e724c-c64d-466a-b50a-7f03306b7d49 button.colab-df-convert');\n",
              "      buttonEl.style.display =\n",
              "        google.colab.kernel.accessAllowed ? 'block' : 'none';\n",
              "\n",
              "      async function convertToInteractive(key) {\n",
              "        const element = document.querySelector('#df-666e724c-c64d-466a-b50a-7f03306b7d49');\n",
              "        const dataTable =\n",
              "          await google.colab.kernel.invokeFunction('convertToInteractive',\n",
              "                                                    [key], {});\n",
              "        if (!dataTable) return;\n",
              "\n",
              "        const docLinkHtml = 'Like what you see? Visit the ' +\n",
              "          '<a target=\"_blank\" href=https://colab.research.google.com/notebooks/data_table.ipynb>data table notebook</a>'\n",
              "          + ' to learn more about interactive tables.';\n",
              "        element.innerHTML = '';\n",
              "        dataTable['output_type'] = 'display_data';\n",
              "        await google.colab.output.renderOutput(dataTable, element);\n",
              "        const docLink = document.createElement('div');\n",
              "        docLink.innerHTML = docLinkHtml;\n",
              "        element.appendChild(docLink);\n",
              "      }\n",
              "    </script>\n",
              "  </div>\n",
              "\n",
              "\n",
              "    <div id=\"df-b0b3d596-a0d5-471c-b6f1-1e03bc40abba\">\n",
              "      <button class=\"colab-df-quickchart\" onclick=\"quickchart('df-b0b3d596-a0d5-471c-b6f1-1e03bc40abba')\"\n",
              "                title=\"Suggest charts\"\n",
              "                style=\"display:none;\">\n",
              "\n",
              "<svg xmlns=\"http://www.w3.org/2000/svg\" height=\"24px\"viewBox=\"0 0 24 24\"\n",
              "     width=\"24px\">\n",
              "    <g>\n",
              "        <path d=\"M19 3H5c-1.1 0-2 .9-2 2v14c0 1.1.9 2 2 2h14c1.1 0 2-.9 2-2V5c0-1.1-.9-2-2-2zM9 17H7v-7h2v7zm4 0h-2V7h2v10zm4 0h-2v-4h2v4z\"/>\n",
              "    </g>\n",
              "</svg>\n",
              "      </button>\n",
              "\n",
              "<style>\n",
              "  .colab-df-quickchart {\n",
              "      --bg-color: #E8F0FE;\n",
              "      --fill-color: #1967D2;\n",
              "      --hover-bg-color: #E2EBFA;\n",
              "      --hover-fill-color: #174EA6;\n",
              "      --disabled-fill-color: #AAA;\n",
              "      --disabled-bg-color: #DDD;\n",
              "  }\n",
              "\n",
              "  [theme=dark] .colab-df-quickchart {\n",
              "      --bg-color: #3B4455;\n",
              "      --fill-color: #D2E3FC;\n",
              "      --hover-bg-color: #434B5C;\n",
              "      --hover-fill-color: #FFFFFF;\n",
              "      --disabled-bg-color: #3B4455;\n",
              "      --disabled-fill-color: #666;\n",
              "  }\n",
              "\n",
              "  .colab-df-quickchart {\n",
              "    background-color: var(--bg-color);\n",
              "    border: none;\n",
              "    border-radius: 50%;\n",
              "    cursor: pointer;\n",
              "    display: none;\n",
              "    fill: var(--fill-color);\n",
              "    height: 32px;\n",
              "    padding: 0;\n",
              "    width: 32px;\n",
              "  }\n",
              "\n",
              "  .colab-df-quickchart:hover {\n",
              "    background-color: var(--hover-bg-color);\n",
              "    box-shadow: 0 1px 2px rgba(60, 64, 67, 0.3), 0 1px 3px 1px rgba(60, 64, 67, 0.15);\n",
              "    fill: var(--button-hover-fill-color);\n",
              "  }\n",
              "\n",
              "  .colab-df-quickchart-complete:disabled,\n",
              "  .colab-df-quickchart-complete:disabled:hover {\n",
              "    background-color: var(--disabled-bg-color);\n",
              "    fill: var(--disabled-fill-color);\n",
              "    box-shadow: none;\n",
              "  }\n",
              "\n",
              "  .colab-df-spinner {\n",
              "    border: 2px solid var(--fill-color);\n",
              "    border-color: transparent;\n",
              "    border-bottom-color: var(--fill-color);\n",
              "    animation:\n",
              "      spin 1s steps(1) infinite;\n",
              "  }\n",
              "\n",
              "  @keyframes spin {\n",
              "    0% {\n",
              "      border-color: transparent;\n",
              "      border-bottom-color: var(--fill-color);\n",
              "      border-left-color: var(--fill-color);\n",
              "    }\n",
              "    20% {\n",
              "      border-color: transparent;\n",
              "      border-left-color: var(--fill-color);\n",
              "      border-top-color: var(--fill-color);\n",
              "    }\n",
              "    30% {\n",
              "      border-color: transparent;\n",
              "      border-left-color: var(--fill-color);\n",
              "      border-top-color: var(--fill-color);\n",
              "      border-right-color: var(--fill-color);\n",
              "    }\n",
              "    40% {\n",
              "      border-color: transparent;\n",
              "      border-right-color: var(--fill-color);\n",
              "      border-top-color: var(--fill-color);\n",
              "    }\n",
              "    60% {\n",
              "      border-color: transparent;\n",
              "      border-right-color: var(--fill-color);\n",
              "    }\n",
              "    80% {\n",
              "      border-color: transparent;\n",
              "      border-right-color: var(--fill-color);\n",
              "      border-bottom-color: var(--fill-color);\n",
              "    }\n",
              "    90% {\n",
              "      border-color: transparent;\n",
              "      border-bottom-color: var(--fill-color);\n",
              "    }\n",
              "  }\n",
              "</style>\n",
              "\n",
              "      <script>\n",
              "        async function quickchart(key) {\n",
              "          const quickchartButtonEl =\n",
              "            document.querySelector('#' + key + ' button');\n",
              "          quickchartButtonEl.disabled = true;  // To prevent multiple clicks.\n",
              "          quickchartButtonEl.classList.add('colab-df-spinner');\n",
              "          try {\n",
              "            const charts = await google.colab.kernel.invokeFunction(\n",
              "                'suggestCharts', [key], {});\n",
              "          } catch (error) {\n",
              "            console.error('Error during call to suggestCharts:', error);\n",
              "          }\n",
              "          quickchartButtonEl.classList.remove('colab-df-spinner');\n",
              "          quickchartButtonEl.classList.add('colab-df-quickchart-complete');\n",
              "        }\n",
              "        (() => {\n",
              "          let quickchartButtonEl =\n",
              "            document.querySelector('#df-b0b3d596-a0d5-471c-b6f1-1e03bc40abba button');\n",
              "          quickchartButtonEl.style.display =\n",
              "            google.colab.kernel.accessAllowed ? 'block' : 'none';\n",
              "        })();\n",
              "      </script>\n",
              "    </div>\n",
              "\n",
              "    </div>\n",
              "  </div>\n"
            ],
            "application/vnd.google.colaboratory.intrinsic+json": {
              "type": "dataframe",
              "variable_name": "df",
              "summary": "{\n  \"name\": \"df\",\n  \"rows\": 38288,\n  \"fields\": [\n    {\n      \"column\": \"Original_Text\",\n      \"properties\": {\n        \"dtype\": \"string\",\n        \"num_unique_values\": 35736,\n        \"samples\": [\n          \"Seriously, people need to understand giving birth to a kid means bringing a conscious being into this shitty horrible world. It is a big deal and i fucking hate it when poor/unhealthy/abnormal/alcoholic people decide to have kids. Like, excuse me? You can't even guarantee if your child can grow up happily. Probably can't.\",\n          \":p\\n\\nhad to hear non-sense accusations today, after *she* went mad and did something startling impulsively.\",\n          \"I PROMISE you, god will never hate you for anything you do. None of this was your fault, and having an abortion would not make you an evil person or unworthy of anyone\\u2019s love, especially god\\u2019s love. The people in your church do not actually follow Christianity if they are treating you this way. This isn\\u2019t a blessing and you don\\u2019t need to accept that from them. You are not a \\u201cwhore\\u201d or damaged or broken. You are a human being who is wholly deserving of love. I am so so sorry this happened, and I truly hope you\\u2019re able to find true help with this, and peace \\ud83d\\udc9c\\ud83d\\udc9c\\ud83d\\udc9c\"\n        ],\n        \"semantic_type\": \"\",\n        \"description\": \"\"\n      }\n    },\n    {\n      \"column\": \"Cleaned_Text\",\n      \"properties\": {\n        \"dtype\": \"string\",\n        \"num_unique_values\": 34918,\n        \"samples\": [\n          \"yep ive usedi know\",\n          \"im normal guy step campus sit room hell\",\n          \"ever looked imaging cell thought holy shit thats amazing even seemingly insignificant dot mindblowing youre able zoom really see think people im blown away human beings capable whole shocking amazing never really knew beauty zoomed started really getting know people everybody something value everybody something learn everybody something teach always encourage people start zoom find things worth marveling others usually follow even dont youll know insanely unlikely profound even opportunity exist yes may tiny scheme universe fact youre alive even chance astoundingly unlikely self makes miracle thank sharing part story learned something today\"\n        ],\n        \"semantic_type\": \"\",\n        \"description\": \"\"\n      }\n    },\n    {\n      \"column\": \"Score\",\n      \"properties\": {\n        \"dtype\": \"number\",\n        \"std\": 380,\n        \"min\": -85,\n        \"max\": 23027,\n        \"num_unique_values\": 858,\n        \"samples\": [\n          299,\n          392,\n          192\n        ],\n        \"semantic_type\": \"\",\n        \"description\": \"\"\n      }\n    },\n    {\n      \"column\": \"Created_At\",\n      \"properties\": {\n        \"dtype\": \"object\",\n        \"num_unique_values\": 36065,\n        \"samples\": [\n          \"2020-09-19 08:55:59\",\n          \"2020-03-03 17:06:15\",\n          \"2020-11-20 03:43:39\"\n        ],\n        \"semantic_type\": \"\",\n        \"description\": \"\"\n      }\n    },\n    {\n      \"column\": \"Hour_of_Day\",\n      \"properties\": {\n        \"dtype\": \"number\",\n        \"std\": 7,\n        \"min\": 0,\n        \"max\": 23,\n        \"num_unique_values\": 24,\n        \"samples\": [\n          3,\n          19,\n          5\n        ],\n        \"semantic_type\": \"\",\n        \"description\": \"\"\n      }\n    },\n    {\n      \"column\": \"Night_Post\",\n      \"properties\": {\n        \"dtype\": \"number\",\n        \"std\": 0,\n        \"min\": 0,\n        \"max\": 1,\n        \"num_unique_values\": 2,\n        \"samples\": [\n          0,\n          1\n        ],\n        \"semantic_type\": \"\",\n        \"description\": \"\"\n      }\n    },\n    {\n      \"column\": \"Word_Count\",\n      \"properties\": {\n        \"dtype\": \"number\",\n        \"std\": 46,\n        \"min\": 1,\n        \"max\": 1930,\n        \"num_unique_values\": 374,\n        \"samples\": [\n          464,\n          50\n        ],\n        \"semantic_type\": \"\",\n        \"description\": \"\"\n      }\n    },\n    {\n      \"column\": \"Word_Length_Category\",\n      \"properties\": {\n        \"dtype\": \"category\",\n        \"num_unique_values\": 3,\n        \"samples\": [\n          \"Very Long\",\n          \"Normal\"\n        ],\n        \"semantic_type\": \"\",\n        \"description\": \"\"\n      }\n    },\n    {\n      \"column\": \"Subjectivity\",\n      \"properties\": {\n        \"dtype\": \"number\",\n        \"std\": 0.2795766984865767,\n        \"min\": 0.0,\n        \"max\": 1.0,\n        \"num_unique_values\": 7351,\n        \"samples\": [\n          0.6030357142857143,\n          0.4951428571428571\n        ],\n        \"semantic_type\": \"\",\n        \"description\": \"\"\n      }\n    },\n    {\n      \"column\": \"Negative_Score\",\n      \"properties\": {\n        \"dtype\": \"number\",\n        \"std\": 0.3417971295293381,\n        \"min\": 0.0010391651885584,\n        \"max\": 0.9845851063728333,\n        \"num_unique_values\": 34884,\n        \"samples\": [\n          0.430753231048584,\n          0.5923597812652588\n        ],\n        \"semantic_type\": \"\",\n        \"description\": \"\"\n      }\n    },\n    {\n      \"column\": \"Neutral_Score\",\n      \"properties\": {\n        \"dtype\": \"number\",\n        \"std\": 0.2299131638992979,\n        \"min\": 0.00574225839227438,\n        \"max\": 0.9387086033821106,\n        \"num_unique_values\": 34889,\n        \"samples\": [\n          0.04538810253143311,\n          0.03925706818699837\n        ],\n        \"semantic_type\": \"\",\n        \"description\": \"\"\n      }\n    },\n    {\n      \"column\": \"Positive_Score\",\n      \"properties\": {\n        \"dtype\": \"number\",\n        \"std\": 0.26775681463141116,\n        \"min\": 0.001694061909802258,\n        \"max\": 0.992597222328186,\n        \"num_unique_values\": 34903,\n        \"samples\": [\n          0.08194758743047714,\n          0.01167475804686546\n        ],\n        \"semantic_type\": \"\",\n        \"description\": \"\"\n      }\n    },\n    {\n      \"column\": \"Suicide_Risk\",\n      \"properties\": {\n        \"dtype\": \"category\",\n        \"num_unique_values\": 4,\n        \"samples\": [\n          \"Moderate Risk\",\n          \"Minimal Concern\"\n        ],\n        \"semantic_type\": \"\",\n        \"description\": \"\"\n      }\n    }\n  ]\n}"
            }
          },
          "metadata": {},
          "execution_count": 4
        }
      ]
    },
    {
      "cell_type": "code",
      "source": [
        "df.shape"
      ],
      "metadata": {
        "colab": {
          "base_uri": "https://localhost:8080/"
        },
        "id": "Ph-7Dd4ffZ6b",
        "outputId": "0bafd904-46d6-4903-9246-345aa1d0af00"
      },
      "execution_count": 5,
      "outputs": [
        {
          "output_type": "execute_result",
          "data": {
            "text/plain": [
              "(38288, 13)"
            ]
          },
          "metadata": {},
          "execution_count": 5
        }
      ]
    },
    {
      "cell_type": "code",
      "source": [
        "vocabulary_size = 1000\n",
        "max_length = 10\n",
        "num_classes=4\n",
        "embedding_dim=64"
      ],
      "metadata": {
        "id": "YRMYUh0rNlb1"
      },
      "execution_count": 6,
      "outputs": []
    },
    {
      "cell_type": "code",
      "source": [
        "total = len(df)\n",
        "\n",
        "print(f\"Minimal risk: {len(df[df['Suicide_Risk'] == 'Minimal Concern'])} ({(len(df[df['Suicide_Risk'] == 'Minimal Concern']) / total) * 100:.2f}%)\")\n",
        "print(f\"Low risk: {len(df[df['Suicide_Risk'] == 'Low Risk'])} ({(len(df[df['Suicide_Risk'] == 'Low Risk']) / total) * 100:.2f}%)\")\n",
        "print(f\"Moderate risk: {len(df[df['Suicide_Risk'] == 'Moderate Risk'])} ({(len(df[df['Suicide_Risk'] == 'Moderate Risk']) / total) * 100:.2f}%)\")\n",
        "print(f\"High risk: {len(df[df['Suicide_Risk'] == 'High Risk'])} ({(len(df[df['Suicide_Risk'] == 'High Risk']) / total) * 100:.2f}%)\")"
      ],
      "metadata": {
        "colab": {
          "base_uri": "https://localhost:8080/"
        },
        "id": "hNSBbToqfcnJ",
        "outputId": "da3a6f43-77a2-4a52-a8a8-b45a9f989cdd"
      },
      "execution_count": 7,
      "outputs": [
        {
          "output_type": "stream",
          "name": "stdout",
          "text": [
            "Minimal risk: 9541 (24.92%)\n",
            "Low risk: 10999 (28.73%)\n",
            "Moderate risk: 4597 (12.01%)\n",
            "High risk: 13151 (34.35%)\n"
          ]
        }
      ]
    },
    {
      "cell_type": "code",
      "source": [
        "# 3. Oversampling\n",
        "# Group data by risk categories\n",
        "df_minimal = df[df['Suicide_Risk'] == 'Minimal Concern']\n",
        "df_low = df[df['Suicide_Risk'] == 'Low Risk']\n",
        "df_moderate = df[df['Suicide_Risk'] == 'Moderate Risk']\n",
        "df_high = df[df['Suicide_Risk'] == 'High Risk']\n",
        "\n",
        "# Find the size of the largest class\n",
        "max_count = max(len(df_minimal), len(df_low), len(df_moderate), len(df_high))\n",
        "\n",
        "# Oversample each class to match the largest class\n",
        "df_minimal_up = resample(df_minimal, replace=True, n_samples=max_count, random_state=42)\n",
        "df_low_up = resample(df_low, replace=True, n_samples=max_count, random_state=42)\n",
        "df_moderate_up = resample(df_moderate, replace=True, n_samples=max_count, random_state=42)\n",
        "df_high_up = resample(df_high, replace=True, n_samples=max_count, random_state=42)\n",
        "\n",
        "# Combine the balanced DataFrame\n",
        "df_balanced = pd.concat([df_minimal_up, df_low_up, df_moderate_up, df_high_up])\n",
        "\n",
        "# Optional: Shuffle the resulting DataFrame\n",
        "df_balanced = df_balanced.sample(frac=1, random_state=42).reset_index(drop=True)\n",
        "\n",
        "# Show new class distribution\n",
        "print(df_balanced['Suicide_Risk'].value_counts())"
      ],
      "metadata": {
        "colab": {
          "base_uri": "https://localhost:8080/"
        },
        "id": "aW90NveaR-Ve",
        "outputId": "4dcfd29c-5434-4c26-c50b-e2adc760837a"
      },
      "execution_count": 8,
      "outputs": [
        {
          "output_type": "stream",
          "name": "stdout",
          "text": [
            "Suicide_Risk\n",
            "Minimal Concern    13151\n",
            "High Risk          13151\n",
            "Moderate Risk      13151\n",
            "Low Risk           13151\n",
            "Name: count, dtype: int64\n"
          ]
        }
      ]
    },
    {
      "cell_type": "code",
      "source": [
        "df_balanced"
      ],
      "metadata": {
        "colab": {
          "base_uri": "https://localhost:8080/",
          "height": 878
        },
        "id": "Njitw36sfhui",
        "outputId": "b0ebf004-57cb-4e88-8051-6c13239f54c9"
      },
      "execution_count": 9,
      "outputs": [
        {
          "output_type": "execute_result",
          "data": {
            "text/plain": [
              "                                           Original_Text  \\\n",
              "0      Whether it’s illegal or not it is still wrong!...   \n",
              "1      God wants me to kill myself I know it, I know ...   \n",
              "2      Do you want to talk about it, I'm so sorry for...   \n",
              "3          This is so true. Just like a slow rot of life   \n",
              "4      Fuuuuuuuuck this is too real... I can't help b...   \n",
              "...                                                  ...   \n",
              "52599      Have faith that Corona-Chan will help us all.   \n",
              "52600  War's scary. Dunno if I wanna be around but I'...   \n",
              "52601  need help w bf asap hey guys my boyfriend has ...   \n",
              "52602                   Would you like to talk about it?   \n",
              "52603  Thank you for taking the courage to talk about...   \n",
              "\n",
              "                                            Cleaned_Text  Score  \\\n",
              "0      whether illegal still wrong people knew speaki...     37   \n",
              "1      god wants kill know know know posted months ag...      1   \n",
              "2                            want talk im sorry happened     95   \n",
              "3                                true like slow rot life      1   \n",
              "4      fuuuuuuuuck real cant help feel like parents n...     17   \n",
              "...                                                  ...    ...   \n",
              "52599                           faith coronachan help us      1   \n",
              "52600  wars scary dunno wanna around ive gotta protec...     10   \n",
              "52601  need help w bf asap hey guys boyfriend making ...      2   \n",
              "52602                                    would like talk      0   \n",
              "52603  thank taking courage talk feel must frustratin...      1   \n",
              "\n",
              "                Created_At  Hour_of_Day  Night_Post  Word_Count  \\\n",
              "0      2021-04-16 17:09:03           17           0          70   \n",
              "1      2025-05-29 05:54:12            5           1         151   \n",
              "2      2019-12-09 21:48:38           21           0           5   \n",
              "3      2020-04-28 21:32:12           21           0           5   \n",
              "4      2024-03-23 11:49:30           11           0          23   \n",
              "...                    ...          ...         ...         ...   \n",
              "52599  2020-03-07 16:34:44           16           0           4   \n",
              "52600  2025-05-09 11:09:23           11           0          41   \n",
              "52601  2025-05-31 07:00:44            7           0          52   \n",
              "52602  2021-10-27 00:46:07            0           1           3   \n",
              "52603  2021-12-07 19:48:33           19           0          26   \n",
              "\n",
              "      Word_Length_Category  Subjectivity  Negative_Score  Neutral_Score  \\\n",
              "0                Very Long      0.580593        0.056538       0.211428   \n",
              "1                Very Long      0.541071        0.946665       0.049778   \n",
              "2                   Normal      1.000000        0.627830       0.330160   \n",
              "3                   Normal      0.525000        0.610957       0.355165   \n",
              "4                   Normal      0.216667        0.918245       0.074702   \n",
              "...                    ...           ...             ...            ...   \n",
              "52599               Normal      0.000000        0.038468       0.735585   \n",
              "52600            Very Long      0.580159        0.953198       0.044392   \n",
              "52601            Very Long      0.696712        0.600129       0.358461   \n",
              "52602           Very Short      0.000000        0.024053       0.753486   \n",
              "52603               Normal      0.842857        0.436224       0.410588   \n",
              "\n",
              "       Positive_Score     Suicide_Risk  \n",
              "0            0.732034  Minimal Concern  \n",
              "1            0.003557        High Risk  \n",
              "2            0.042010    Moderate Risk  \n",
              "3            0.033878    Moderate Risk  \n",
              "4            0.007054        High Risk  \n",
              "...               ...              ...  \n",
              "52599        0.225947  Minimal Concern  \n",
              "52600        0.002410        High Risk  \n",
              "52601        0.041410    Moderate Risk  \n",
              "52602        0.222462  Minimal Concern  \n",
              "52603        0.153188         Low Risk  \n",
              "\n",
              "[52604 rows x 13 columns]"
            ],
            "text/html": [
              "\n",
              "  <div id=\"df-4cbbaccc-2ba4-4c8c-954b-1295ee05b418\" class=\"colab-df-container\">\n",
              "    <div>\n",
              "<style scoped>\n",
              "    .dataframe tbody tr th:only-of-type {\n",
              "        vertical-align: middle;\n",
              "    }\n",
              "\n",
              "    .dataframe tbody tr th {\n",
              "        vertical-align: top;\n",
              "    }\n",
              "\n",
              "    .dataframe thead th {\n",
              "        text-align: right;\n",
              "    }\n",
              "</style>\n",
              "<table border=\"1\" class=\"dataframe\">\n",
              "  <thead>\n",
              "    <tr style=\"text-align: right;\">\n",
              "      <th></th>\n",
              "      <th>Original_Text</th>\n",
              "      <th>Cleaned_Text</th>\n",
              "      <th>Score</th>\n",
              "      <th>Created_At</th>\n",
              "      <th>Hour_of_Day</th>\n",
              "      <th>Night_Post</th>\n",
              "      <th>Word_Count</th>\n",
              "      <th>Word_Length_Category</th>\n",
              "      <th>Subjectivity</th>\n",
              "      <th>Negative_Score</th>\n",
              "      <th>Neutral_Score</th>\n",
              "      <th>Positive_Score</th>\n",
              "      <th>Suicide_Risk</th>\n",
              "    </tr>\n",
              "  </thead>\n",
              "  <tbody>\n",
              "    <tr>\n",
              "      <th>0</th>\n",
              "      <td>Whether it’s illegal or not it is still wrong!...</td>\n",
              "      <td>whether illegal still wrong people knew speaki...</td>\n",
              "      <td>37</td>\n",
              "      <td>2021-04-16 17:09:03</td>\n",
              "      <td>17</td>\n",
              "      <td>0</td>\n",
              "      <td>70</td>\n",
              "      <td>Very Long</td>\n",
              "      <td>0.580593</td>\n",
              "      <td>0.056538</td>\n",
              "      <td>0.211428</td>\n",
              "      <td>0.732034</td>\n",
              "      <td>Minimal Concern</td>\n",
              "    </tr>\n",
              "    <tr>\n",
              "      <th>1</th>\n",
              "      <td>God wants me to kill myself I know it, I know ...</td>\n",
              "      <td>god wants kill know know know posted months ag...</td>\n",
              "      <td>1</td>\n",
              "      <td>2025-05-29 05:54:12</td>\n",
              "      <td>5</td>\n",
              "      <td>1</td>\n",
              "      <td>151</td>\n",
              "      <td>Very Long</td>\n",
              "      <td>0.541071</td>\n",
              "      <td>0.946665</td>\n",
              "      <td>0.049778</td>\n",
              "      <td>0.003557</td>\n",
              "      <td>High Risk</td>\n",
              "    </tr>\n",
              "    <tr>\n",
              "      <th>2</th>\n",
              "      <td>Do you want to talk about it, I'm so sorry for...</td>\n",
              "      <td>want talk im sorry happened</td>\n",
              "      <td>95</td>\n",
              "      <td>2019-12-09 21:48:38</td>\n",
              "      <td>21</td>\n",
              "      <td>0</td>\n",
              "      <td>5</td>\n",
              "      <td>Normal</td>\n",
              "      <td>1.000000</td>\n",
              "      <td>0.627830</td>\n",
              "      <td>0.330160</td>\n",
              "      <td>0.042010</td>\n",
              "      <td>Moderate Risk</td>\n",
              "    </tr>\n",
              "    <tr>\n",
              "      <th>3</th>\n",
              "      <td>This is so true. Just like a slow rot of life</td>\n",
              "      <td>true like slow rot life</td>\n",
              "      <td>1</td>\n",
              "      <td>2020-04-28 21:32:12</td>\n",
              "      <td>21</td>\n",
              "      <td>0</td>\n",
              "      <td>5</td>\n",
              "      <td>Normal</td>\n",
              "      <td>0.525000</td>\n",
              "      <td>0.610957</td>\n",
              "      <td>0.355165</td>\n",
              "      <td>0.033878</td>\n",
              "      <td>Moderate Risk</td>\n",
              "    </tr>\n",
              "    <tr>\n",
              "      <th>4</th>\n",
              "      <td>Fuuuuuuuuck this is too real... I can't help b...</td>\n",
              "      <td>fuuuuuuuuck real cant help feel like parents n...</td>\n",
              "      <td>17</td>\n",
              "      <td>2024-03-23 11:49:30</td>\n",
              "      <td>11</td>\n",
              "      <td>0</td>\n",
              "      <td>23</td>\n",
              "      <td>Normal</td>\n",
              "      <td>0.216667</td>\n",
              "      <td>0.918245</td>\n",
              "      <td>0.074702</td>\n",
              "      <td>0.007054</td>\n",
              "      <td>High Risk</td>\n",
              "    </tr>\n",
              "    <tr>\n",
              "      <th>...</th>\n",
              "      <td>...</td>\n",
              "      <td>...</td>\n",
              "      <td>...</td>\n",
              "      <td>...</td>\n",
              "      <td>...</td>\n",
              "      <td>...</td>\n",
              "      <td>...</td>\n",
              "      <td>...</td>\n",
              "      <td>...</td>\n",
              "      <td>...</td>\n",
              "      <td>...</td>\n",
              "      <td>...</td>\n",
              "      <td>...</td>\n",
              "    </tr>\n",
              "    <tr>\n",
              "      <th>52599</th>\n",
              "      <td>Have faith that Corona-Chan will help us all.</td>\n",
              "      <td>faith coronachan help us</td>\n",
              "      <td>1</td>\n",
              "      <td>2020-03-07 16:34:44</td>\n",
              "      <td>16</td>\n",
              "      <td>0</td>\n",
              "      <td>4</td>\n",
              "      <td>Normal</td>\n",
              "      <td>0.000000</td>\n",
              "      <td>0.038468</td>\n",
              "      <td>0.735585</td>\n",
              "      <td>0.225947</td>\n",
              "      <td>Minimal Concern</td>\n",
              "    </tr>\n",
              "    <tr>\n",
              "      <th>52600</th>\n",
              "      <td>War's scary. Dunno if I wanna be around but I'...</td>\n",
              "      <td>wars scary dunno wanna around ive gotta protec...</td>\n",
              "      <td>10</td>\n",
              "      <td>2025-05-09 11:09:23</td>\n",
              "      <td>11</td>\n",
              "      <td>0</td>\n",
              "      <td>41</td>\n",
              "      <td>Very Long</td>\n",
              "      <td>0.580159</td>\n",
              "      <td>0.953198</td>\n",
              "      <td>0.044392</td>\n",
              "      <td>0.002410</td>\n",
              "      <td>High Risk</td>\n",
              "    </tr>\n",
              "    <tr>\n",
              "      <th>52601</th>\n",
              "      <td>need help w bf asap hey guys my boyfriend has ...</td>\n",
              "      <td>need help w bf asap hey guys boyfriend making ...</td>\n",
              "      <td>2</td>\n",
              "      <td>2025-05-31 07:00:44</td>\n",
              "      <td>7</td>\n",
              "      <td>0</td>\n",
              "      <td>52</td>\n",
              "      <td>Very Long</td>\n",
              "      <td>0.696712</td>\n",
              "      <td>0.600129</td>\n",
              "      <td>0.358461</td>\n",
              "      <td>0.041410</td>\n",
              "      <td>Moderate Risk</td>\n",
              "    </tr>\n",
              "    <tr>\n",
              "      <th>52602</th>\n",
              "      <td>Would you like to talk about it?</td>\n",
              "      <td>would like talk</td>\n",
              "      <td>0</td>\n",
              "      <td>2021-10-27 00:46:07</td>\n",
              "      <td>0</td>\n",
              "      <td>1</td>\n",
              "      <td>3</td>\n",
              "      <td>Very Short</td>\n",
              "      <td>0.000000</td>\n",
              "      <td>0.024053</td>\n",
              "      <td>0.753486</td>\n",
              "      <td>0.222462</td>\n",
              "      <td>Minimal Concern</td>\n",
              "    </tr>\n",
              "    <tr>\n",
              "      <th>52603</th>\n",
              "      <td>Thank you for taking the courage to talk about...</td>\n",
              "      <td>thank taking courage talk feel must frustratin...</td>\n",
              "      <td>1</td>\n",
              "      <td>2021-12-07 19:48:33</td>\n",
              "      <td>19</td>\n",
              "      <td>0</td>\n",
              "      <td>26</td>\n",
              "      <td>Normal</td>\n",
              "      <td>0.842857</td>\n",
              "      <td>0.436224</td>\n",
              "      <td>0.410588</td>\n",
              "      <td>0.153188</td>\n",
              "      <td>Low Risk</td>\n",
              "    </tr>\n",
              "  </tbody>\n",
              "</table>\n",
              "<p>52604 rows × 13 columns</p>\n",
              "</div>\n",
              "    <div class=\"colab-df-buttons\">\n",
              "\n",
              "  <div class=\"colab-df-container\">\n",
              "    <button class=\"colab-df-convert\" onclick=\"convertToInteractive('df-4cbbaccc-2ba4-4c8c-954b-1295ee05b418')\"\n",
              "            title=\"Convert this dataframe to an interactive table.\"\n",
              "            style=\"display:none;\">\n",
              "\n",
              "  <svg xmlns=\"http://www.w3.org/2000/svg\" height=\"24px\" viewBox=\"0 -960 960 960\">\n",
              "    <path d=\"M120-120v-720h720v720H120Zm60-500h600v-160H180v160Zm220 220h160v-160H400v160Zm0 220h160v-160H400v160ZM180-400h160v-160H180v160Zm440 0h160v-160H620v160ZM180-180h160v-160H180v160Zm440 0h160v-160H620v160Z\"/>\n",
              "  </svg>\n",
              "    </button>\n",
              "\n",
              "  <style>\n",
              "    .colab-df-container {\n",
              "      display:flex;\n",
              "      gap: 12px;\n",
              "    }\n",
              "\n",
              "    .colab-df-convert {\n",
              "      background-color: #E8F0FE;\n",
              "      border: none;\n",
              "      border-radius: 50%;\n",
              "      cursor: pointer;\n",
              "      display: none;\n",
              "      fill: #1967D2;\n",
              "      height: 32px;\n",
              "      padding: 0 0 0 0;\n",
              "      width: 32px;\n",
              "    }\n",
              "\n",
              "    .colab-df-convert:hover {\n",
              "      background-color: #E2EBFA;\n",
              "      box-shadow: 0px 1px 2px rgba(60, 64, 67, 0.3), 0px 1px 3px 1px rgba(60, 64, 67, 0.15);\n",
              "      fill: #174EA6;\n",
              "    }\n",
              "\n",
              "    .colab-df-buttons div {\n",
              "      margin-bottom: 4px;\n",
              "    }\n",
              "\n",
              "    [theme=dark] .colab-df-convert {\n",
              "      background-color: #3B4455;\n",
              "      fill: #D2E3FC;\n",
              "    }\n",
              "\n",
              "    [theme=dark] .colab-df-convert:hover {\n",
              "      background-color: #434B5C;\n",
              "      box-shadow: 0px 1px 3px 1px rgba(0, 0, 0, 0.15);\n",
              "      filter: drop-shadow(0px 1px 2px rgba(0, 0, 0, 0.3));\n",
              "      fill: #FFFFFF;\n",
              "    }\n",
              "  </style>\n",
              "\n",
              "    <script>\n",
              "      const buttonEl =\n",
              "        document.querySelector('#df-4cbbaccc-2ba4-4c8c-954b-1295ee05b418 button.colab-df-convert');\n",
              "      buttonEl.style.display =\n",
              "        google.colab.kernel.accessAllowed ? 'block' : 'none';\n",
              "\n",
              "      async function convertToInteractive(key) {\n",
              "        const element = document.querySelector('#df-4cbbaccc-2ba4-4c8c-954b-1295ee05b418');\n",
              "        const dataTable =\n",
              "          await google.colab.kernel.invokeFunction('convertToInteractive',\n",
              "                                                    [key], {});\n",
              "        if (!dataTable) return;\n",
              "\n",
              "        const docLinkHtml = 'Like what you see? Visit the ' +\n",
              "          '<a target=\"_blank\" href=https://colab.research.google.com/notebooks/data_table.ipynb>data table notebook</a>'\n",
              "          + ' to learn more about interactive tables.';\n",
              "        element.innerHTML = '';\n",
              "        dataTable['output_type'] = 'display_data';\n",
              "        await google.colab.output.renderOutput(dataTable, element);\n",
              "        const docLink = document.createElement('div');\n",
              "        docLink.innerHTML = docLinkHtml;\n",
              "        element.appendChild(docLink);\n",
              "      }\n",
              "    </script>\n",
              "  </div>\n",
              "\n",
              "\n",
              "    <div id=\"df-2e8f2658-fb8f-444e-8058-c911e4c61e75\">\n",
              "      <button class=\"colab-df-quickchart\" onclick=\"quickchart('df-2e8f2658-fb8f-444e-8058-c911e4c61e75')\"\n",
              "                title=\"Suggest charts\"\n",
              "                style=\"display:none;\">\n",
              "\n",
              "<svg xmlns=\"http://www.w3.org/2000/svg\" height=\"24px\"viewBox=\"0 0 24 24\"\n",
              "     width=\"24px\">\n",
              "    <g>\n",
              "        <path d=\"M19 3H5c-1.1 0-2 .9-2 2v14c0 1.1.9 2 2 2h14c1.1 0 2-.9 2-2V5c0-1.1-.9-2-2-2zM9 17H7v-7h2v7zm4 0h-2V7h2v10zm4 0h-2v-4h2v4z\"/>\n",
              "    </g>\n",
              "</svg>\n",
              "      </button>\n",
              "\n",
              "<style>\n",
              "  .colab-df-quickchart {\n",
              "      --bg-color: #E8F0FE;\n",
              "      --fill-color: #1967D2;\n",
              "      --hover-bg-color: #E2EBFA;\n",
              "      --hover-fill-color: #174EA6;\n",
              "      --disabled-fill-color: #AAA;\n",
              "      --disabled-bg-color: #DDD;\n",
              "  }\n",
              "\n",
              "  [theme=dark] .colab-df-quickchart {\n",
              "      --bg-color: #3B4455;\n",
              "      --fill-color: #D2E3FC;\n",
              "      --hover-bg-color: #434B5C;\n",
              "      --hover-fill-color: #FFFFFF;\n",
              "      --disabled-bg-color: #3B4455;\n",
              "      --disabled-fill-color: #666;\n",
              "  }\n",
              "\n",
              "  .colab-df-quickchart {\n",
              "    background-color: var(--bg-color);\n",
              "    border: none;\n",
              "    border-radius: 50%;\n",
              "    cursor: pointer;\n",
              "    display: none;\n",
              "    fill: var(--fill-color);\n",
              "    height: 32px;\n",
              "    padding: 0;\n",
              "    width: 32px;\n",
              "  }\n",
              "\n",
              "  .colab-df-quickchart:hover {\n",
              "    background-color: var(--hover-bg-color);\n",
              "    box-shadow: 0 1px 2px rgba(60, 64, 67, 0.3), 0 1px 3px 1px rgba(60, 64, 67, 0.15);\n",
              "    fill: var(--button-hover-fill-color);\n",
              "  }\n",
              "\n",
              "  .colab-df-quickchart-complete:disabled,\n",
              "  .colab-df-quickchart-complete:disabled:hover {\n",
              "    background-color: var(--disabled-bg-color);\n",
              "    fill: var(--disabled-fill-color);\n",
              "    box-shadow: none;\n",
              "  }\n",
              "\n",
              "  .colab-df-spinner {\n",
              "    border: 2px solid var(--fill-color);\n",
              "    border-color: transparent;\n",
              "    border-bottom-color: var(--fill-color);\n",
              "    animation:\n",
              "      spin 1s steps(1) infinite;\n",
              "  }\n",
              "\n",
              "  @keyframes spin {\n",
              "    0% {\n",
              "      border-color: transparent;\n",
              "      border-bottom-color: var(--fill-color);\n",
              "      border-left-color: var(--fill-color);\n",
              "    }\n",
              "    20% {\n",
              "      border-color: transparent;\n",
              "      border-left-color: var(--fill-color);\n",
              "      border-top-color: var(--fill-color);\n",
              "    }\n",
              "    30% {\n",
              "      border-color: transparent;\n",
              "      border-left-color: var(--fill-color);\n",
              "      border-top-color: var(--fill-color);\n",
              "      border-right-color: var(--fill-color);\n",
              "    }\n",
              "    40% {\n",
              "      border-color: transparent;\n",
              "      border-right-color: var(--fill-color);\n",
              "      border-top-color: var(--fill-color);\n",
              "    }\n",
              "    60% {\n",
              "      border-color: transparent;\n",
              "      border-right-color: var(--fill-color);\n",
              "    }\n",
              "    80% {\n",
              "      border-color: transparent;\n",
              "      border-right-color: var(--fill-color);\n",
              "      border-bottom-color: var(--fill-color);\n",
              "    }\n",
              "    90% {\n",
              "      border-color: transparent;\n",
              "      border-bottom-color: var(--fill-color);\n",
              "    }\n",
              "  }\n",
              "</style>\n",
              "\n",
              "      <script>\n",
              "        async function quickchart(key) {\n",
              "          const quickchartButtonEl =\n",
              "            document.querySelector('#' + key + ' button');\n",
              "          quickchartButtonEl.disabled = true;  // To prevent multiple clicks.\n",
              "          quickchartButtonEl.classList.add('colab-df-spinner');\n",
              "          try {\n",
              "            const charts = await google.colab.kernel.invokeFunction(\n",
              "                'suggestCharts', [key], {});\n",
              "          } catch (error) {\n",
              "            console.error('Error during call to suggestCharts:', error);\n",
              "          }\n",
              "          quickchartButtonEl.classList.remove('colab-df-spinner');\n",
              "          quickchartButtonEl.classList.add('colab-df-quickchart-complete');\n",
              "        }\n",
              "        (() => {\n",
              "          let quickchartButtonEl =\n",
              "            document.querySelector('#df-2e8f2658-fb8f-444e-8058-c911e4c61e75 button');\n",
              "          quickchartButtonEl.style.display =\n",
              "            google.colab.kernel.accessAllowed ? 'block' : 'none';\n",
              "        })();\n",
              "      </script>\n",
              "    </div>\n",
              "\n",
              "  <div id=\"id_4bad6b43-9592-4d84-98fe-7bedd65e7626\">\n",
              "    <style>\n",
              "      .colab-df-generate {\n",
              "        background-color: #E8F0FE;\n",
              "        border: none;\n",
              "        border-radius: 50%;\n",
              "        cursor: pointer;\n",
              "        display: none;\n",
              "        fill: #1967D2;\n",
              "        height: 32px;\n",
              "        padding: 0 0 0 0;\n",
              "        width: 32px;\n",
              "      }\n",
              "\n",
              "      .colab-df-generate:hover {\n",
              "        background-color: #E2EBFA;\n",
              "        box-shadow: 0px 1px 2px rgba(60, 64, 67, 0.3), 0px 1px 3px 1px rgba(60, 64, 67, 0.15);\n",
              "        fill: #174EA6;\n",
              "      }\n",
              "\n",
              "      [theme=dark] .colab-df-generate {\n",
              "        background-color: #3B4455;\n",
              "        fill: #D2E3FC;\n",
              "      }\n",
              "\n",
              "      [theme=dark] .colab-df-generate:hover {\n",
              "        background-color: #434B5C;\n",
              "        box-shadow: 0px 1px 3px 1px rgba(0, 0, 0, 0.15);\n",
              "        filter: drop-shadow(0px 1px 2px rgba(0, 0, 0, 0.3));\n",
              "        fill: #FFFFFF;\n",
              "      }\n",
              "    </style>\n",
              "    <button class=\"colab-df-generate\" onclick=\"generateWithVariable('df_balanced')\"\n",
              "            title=\"Generate code using this dataframe.\"\n",
              "            style=\"display:none;\">\n",
              "\n",
              "  <svg xmlns=\"http://www.w3.org/2000/svg\" height=\"24px\"viewBox=\"0 0 24 24\"\n",
              "       width=\"24px\">\n",
              "    <path d=\"M7,19H8.4L18.45,9,17,7.55,7,17.6ZM5,21V16.75L18.45,3.32a2,2,0,0,1,2.83,0l1.4,1.43a1.91,1.91,0,0,1,.58,1.4,1.91,1.91,0,0,1-.58,1.4L9.25,21ZM18.45,9,17,7.55Zm-12,3A5.31,5.31,0,0,0,4.9,8.1,5.31,5.31,0,0,0,1,6.5,5.31,5.31,0,0,0,4.9,4.9,5.31,5.31,0,0,0,6.5,1,5.31,5.31,0,0,0,8.1,4.9,5.31,5.31,0,0,0,12,6.5,5.46,5.46,0,0,0,6.5,12Z\"/>\n",
              "  </svg>\n",
              "    </button>\n",
              "    <script>\n",
              "      (() => {\n",
              "      const buttonEl =\n",
              "        document.querySelector('#id_4bad6b43-9592-4d84-98fe-7bedd65e7626 button.colab-df-generate');\n",
              "      buttonEl.style.display =\n",
              "        google.colab.kernel.accessAllowed ? 'block' : 'none';\n",
              "\n",
              "      buttonEl.onclick = () => {\n",
              "        google.colab.notebook.generateWithVariable('df_balanced');\n",
              "      }\n",
              "      })();\n",
              "    </script>\n",
              "  </div>\n",
              "\n",
              "    </div>\n",
              "  </div>\n"
            ],
            "application/vnd.google.colaboratory.intrinsic+json": {
              "type": "dataframe",
              "variable_name": "df_balanced",
              "summary": "{\n  \"name\": \"df_balanced\",\n  \"rows\": 52604,\n  \"fields\": [\n    {\n      \"column\": \"Original_Text\",\n      \"properties\": {\n        \"dtype\": \"category\",\n        \"num_unique_values\": 26017,\n        \"samples\": [\n          \"I know how you feel. In those cases I sometimes curse myself for my perceived cowardice.\",\n          \"thank you for the beautiful heart\",\n          \"Bruh I fuckin felt that. If I had ridiculous amounts of weed I would smoke it all day long. But I can hardly get weed because I have no money. I haven't smoked in a good minute and my brother is supposed to run me a blunt and I stg I hate my life without weed.\"\n        ],\n        \"semantic_type\": \"\",\n        \"description\": \"\"\n      }\n    },\n    {\n      \"column\": \"Cleaned_Text\",\n      \"properties\": {\n        \"dtype\": \"category\",\n        \"num_unique_values\": 25456,\n        \"samples\": [\n          \"honestly prefer invisible one judge tell\",\n          \"cats best friend human remember reason think bad life good always look life good side always think everything ok time\",\n          \"exactly tired wishing better done running wheel\"\n        ],\n        \"semantic_type\": \"\",\n        \"description\": \"\"\n      }\n    },\n    {\n      \"column\": \"Score\",\n      \"properties\": {\n        \"dtype\": \"number\",\n        \"std\": 446,\n        \"min\": -85,\n        \"max\": 23027,\n        \"num_unique_values\": 727,\n        \"samples\": [\n          801,\n          272,\n          153\n        ],\n        \"semantic_type\": \"\",\n        \"description\": \"\"\n      }\n    },\n    {\n      \"column\": \"Created_At\",\n      \"properties\": {\n        \"dtype\": \"object\",\n        \"num_unique_values\": 26226,\n        \"samples\": [\n          \"2021-10-19 08:28:53\",\n          \"2023-10-09 18:53:45\",\n          \"2025-05-04 16:24:44\"\n        ],\n        \"semantic_type\": \"\",\n        \"description\": \"\"\n      }\n    },\n    {\n      \"column\": \"Hour_of_Day\",\n      \"properties\": {\n        \"dtype\": \"number\",\n        \"std\": 7,\n        \"min\": 0,\n        \"max\": 23,\n        \"num_unique_values\": 24,\n        \"samples\": [\n          9,\n          22,\n          17\n        ],\n        \"semantic_type\": \"\",\n        \"description\": \"\"\n      }\n    },\n    {\n      \"column\": \"Night_Post\",\n      \"properties\": {\n        \"dtype\": \"number\",\n        \"std\": 0,\n        \"min\": 0,\n        \"max\": 1,\n        \"num_unique_values\": 2,\n        \"samples\": [\n          1,\n          0\n        ],\n        \"semantic_type\": \"\",\n        \"description\": \"\"\n      }\n    },\n    {\n      \"column\": \"Word_Count\",\n      \"properties\": {\n        \"dtype\": \"number\",\n        \"std\": 49,\n        \"min\": 1,\n        \"max\": 1930,\n        \"num_unique_values\": 347,\n        \"samples\": [\n          309,\n          146\n        ],\n        \"semantic_type\": \"\",\n        \"description\": \"\"\n      }\n    },\n    {\n      \"column\": \"Word_Length_Category\",\n      \"properties\": {\n        \"dtype\": \"category\",\n        \"num_unique_values\": 3,\n        \"samples\": [\n          \"Very Long\",\n          \"Normal\"\n        ],\n        \"semantic_type\": \"\",\n        \"description\": \"\"\n      }\n    },\n    {\n      \"column\": \"Subjectivity\",\n      \"properties\": {\n        \"dtype\": \"number\",\n        \"std\": 0.27654919047385906,\n        \"min\": 0.0,\n        \"max\": 1.0,\n        \"num_unique_values\": 5851,\n        \"samples\": [\n          0.5411411411411412,\n          0.9333333333333332\n        ],\n        \"semantic_type\": \"\",\n        \"description\": \"\"\n      }\n    },\n    {\n      \"column\": \"Negative_Score\",\n      \"properties\": {\n        \"dtype\": \"number\",\n        \"std\": 0.3239922406935163,\n        \"min\": 0.0010391651885584,\n        \"max\": 0.9836218953132629,\n        \"num_unique_values\": 25442,\n        \"samples\": [\n          0.8923490047454834,\n          0.5227067470550537\n        ],\n        \"semantic_type\": \"\",\n        \"description\": \"\"\n      }\n    },\n    {\n      \"column\": \"Neutral_Score\",\n      \"properties\": {\n        \"dtype\": \"number\",\n        \"std\": 0.2185493866091568,\n        \"min\": 0.00574225839227438,\n        \"max\": 0.9348187446594238,\n        \"num_unique_values\": 25439,\n        \"samples\": [\n          0.2342618405818939,\n          0.3559766113758087\n        ],\n        \"semantic_type\": \"\",\n        \"description\": \"\"\n      }\n    },\n    {\n      \"column\": \"Positive_Score\",\n      \"properties\": {\n        \"dtype\": \"number\",\n        \"std\": 0.2733695734088583,\n        \"min\": 0.001694061909802258,\n        \"max\": 0.992597222328186,\n        \"num_unique_values\": 25450,\n        \"samples\": [\n          0.003302523400634527,\n          0.1762700080871582\n        ],\n        \"semantic_type\": \"\",\n        \"description\": \"\"\n      }\n    },\n    {\n      \"column\": \"Suicide_Risk\",\n      \"properties\": {\n        \"dtype\": \"category\",\n        \"num_unique_values\": 4,\n        \"samples\": [\n          \"High Risk\",\n          \"Low Risk\"\n        ],\n        \"semantic_type\": \"\",\n        \"description\": \"\"\n      }\n    }\n  ]\n}"
            }
          },
          "metadata": {},
          "execution_count": 9
        }
      ]
    },
    {
      "cell_type": "code",
      "source": [
        "# 4. Tokenization\n",
        "label_encoder = LabelEncoder()\n",
        "df_balanced['Suicide_Risk_Label'] = label_encoder.fit_transform(df_balanced['Suicide_Risk'])\n",
        "labels = to_categorical(df_balanced['Suicide_Risk_Label'])\n",
        "\n",
        "tokenizer = Tokenizer(num_words=vocabulary_size, oov_token=\"<OOV>\")\n",
        "tokenizer.fit_on_texts(df_balanced['Cleaned_Text'])\n",
        "sequences = tokenizer.texts_to_sequences(df_balanced['Cleaned_Text'])\n",
        "X_text = pad_sequences(sequences, maxlen=max_length, padding='post')"
      ],
      "metadata": {
        "id": "2OxQWh6vOCrp"
      },
      "execution_count": 10,
      "outputs": []
    },
    {
      "cell_type": "code",
      "source": [
        "numeric_cols = [\n",
        "    'Score', 'Hour_of_Day', 'Night_Post', 'Word_Count',\n",
        "    'Subjectivity', 'Negative_Score', 'Neutral_Score', 'Positive_Score'\n",
        "]\n",
        "\n",
        "\n",
        "X_numeric_raw = df_balanced[numeric_cols]\n",
        "scaler = StandardScaler()\n",
        "X_numeric = scaler.fit_transform(X_numeric_raw)\n",
        "Y = labels\n",
        "X = np.concatenate([X_text, X_numeric], axis=1)"
      ],
      "metadata": {
        "id": "-6rjpqpCfuTe"
      },
      "execution_count": 33,
      "outputs": []
    },
    {
      "cell_type": "code",
      "source": [
        "# 4. split Data\n",
        "X_train, X_test, y_train, y_test = train_test_split(X, Y, test_size=0.3, random_state=42)"
      ],
      "metadata": {
        "id": "3vhmaia0NVoa"
      },
      "execution_count": 34,
      "outputs": []
    },
    {
      "cell_type": "code",
      "source": [
        "# 5. Build the model\n",
        "model_LSTM = Sequential()\n",
        "model_LSTM.add(Embedding(input_dim=vocabulary_size, output_dim=64, input_length=max_length))\n",
        "model_LSTM.add(Bidirectional(LSTM(128, return_sequences=True)))\n",
        "model_LSTM.add(Dropout(0.5))\n",
        "model_LSTM.add(LSTM(128,))\n",
        "model_LSTM.add(Dropout(0.5))\n",
        "model_LSTM.add(Dense(64, activation='relu'))\n",
        "model_LSTM.add(Dense(4, activation='softmax'))\n",
        "\n",
        "model_LSTM.compile(loss='categorical_crossentropy', optimizer='adam', metrics=['accuracy'])"
      ],
      "metadata": {
        "colab": {
          "base_uri": "https://localhost:8080/"
        },
        "id": "-7zAZb_Zwty5",
        "outputId": "3f165ad4-87f2-4191-a3c0-fd14e011ad96"
      },
      "execution_count": 35,
      "outputs": [
        {
          "output_type": "stream",
          "name": "stderr",
          "text": [
            "/usr/local/lib/python3.11/dist-packages/keras/src/layers/core/embedding.py:90: UserWarning: Argument `input_length` is deprecated. Just remove it.\n",
            "  warnings.warn(\n"
          ]
        }
      ]
    },
    {
      "cell_type": "code",
      "source": [
        "# 6. Train model\n",
        "history_LSTM = model_LSTM.fit(X_train, y_train,\n",
        "                    epochs=35,\n",
        "                    batch_size=64,\n",
        "                    validation_data=(X_test, y_test))"
      ],
      "metadata": {
        "colab": {
          "base_uri": "https://localhost:8080/"
        },
        "id": "YgvpQ1xMNkyO",
        "outputId": "ce8f7892-9fa4-40a2-b809-e8fe0c25a3de"
      },
      "execution_count": 36,
      "outputs": [
        {
          "output_type": "stream",
          "name": "stdout",
          "text": [
            "Epoch 1/35\n",
            "\u001b[1m576/576\u001b[0m \u001b[32m━━━━━━━━━━━━━━━━━━━━\u001b[0m\u001b[37m\u001b[0m \u001b[1m11s\u001b[0m 13ms/step - accuracy: 0.5318 - loss: 1.0791 - val_accuracy: 0.7047 - val_loss: 0.7472\n",
            "Epoch 2/35\n",
            "\u001b[1m576/576\u001b[0m \u001b[32m━━━━━━━━━━━━━━━━━━━━\u001b[0m\u001b[37m\u001b[0m \u001b[1m7s\u001b[0m 11ms/step - accuracy: 0.7205 - loss: 0.7228 - val_accuracy: 0.7346 - val_loss: 0.6763\n",
            "Epoch 3/35\n",
            "\u001b[1m576/576\u001b[0m \u001b[32m━━━━━━━━━━━━━━━━━━━━\u001b[0m\u001b[37m\u001b[0m \u001b[1m10s\u001b[0m 11ms/step - accuracy: 0.7365 - loss: 0.6718 - val_accuracy: 0.7401 - val_loss: 0.6618\n",
            "Epoch 4/35\n",
            "\u001b[1m576/576\u001b[0m \u001b[32m━━━━━━━━━━━━━━━━━━━━\u001b[0m\u001b[37m\u001b[0m \u001b[1m10s\u001b[0m 11ms/step - accuracy: 0.7569 - loss: 0.6251 - val_accuracy: 0.7432 - val_loss: 0.6363\n",
            "Epoch 5/35\n",
            "\u001b[1m576/576\u001b[0m \u001b[32m━━━━━━━━━━━━━━━━━━━━\u001b[0m\u001b[37m\u001b[0m \u001b[1m8s\u001b[0m 13ms/step - accuracy: 0.7687 - loss: 0.5924 - val_accuracy: 0.7481 - val_loss: 0.6301\n",
            "Epoch 6/35\n",
            "\u001b[1m576/576\u001b[0m \u001b[32m━━━━━━━━━━━━━━━━━━━━\u001b[0m\u001b[37m\u001b[0m \u001b[1m9s\u001b[0m 11ms/step - accuracy: 0.7822 - loss: 0.5658 - val_accuracy: 0.7565 - val_loss: 0.6140\n",
            "Epoch 7/35\n",
            "\u001b[1m576/576\u001b[0m \u001b[32m━━━━━━━━━━━━━━━━━━━━\u001b[0m\u001b[37m\u001b[0m \u001b[1m8s\u001b[0m 14ms/step - accuracy: 0.7889 - loss: 0.5455 - val_accuracy: 0.7571 - val_loss: 0.6158\n",
            "Epoch 8/35\n",
            "\u001b[1m576/576\u001b[0m \u001b[32m━━━━━━━━━━━━━━━━━━━━\u001b[0m\u001b[37m\u001b[0m \u001b[1m9s\u001b[0m 12ms/step - accuracy: 0.7998 - loss: 0.5218 - val_accuracy: 0.7619 - val_loss: 0.6143\n",
            "Epoch 9/35\n",
            "\u001b[1m576/576\u001b[0m \u001b[32m━━━━━━━━━━━━━━━━━━━━\u001b[0m\u001b[37m\u001b[0m \u001b[1m10s\u001b[0m 12ms/step - accuracy: 0.8163 - loss: 0.4865 - val_accuracy: 0.7750 - val_loss: 0.5985\n",
            "Epoch 10/35\n",
            "\u001b[1m576/576\u001b[0m \u001b[32m━━━━━━━━━━━━━━━━━━━━\u001b[0m\u001b[37m\u001b[0m \u001b[1m10s\u001b[0m 12ms/step - accuracy: 0.8273 - loss: 0.4654 - val_accuracy: 0.7830 - val_loss: 0.5846\n",
            "Epoch 11/35\n",
            "\u001b[1m576/576\u001b[0m \u001b[32m━━━━━━━━━━━━━━━━━━━━\u001b[0m\u001b[37m\u001b[0m \u001b[1m7s\u001b[0m 11ms/step - accuracy: 0.8432 - loss: 0.4341 - val_accuracy: 0.7823 - val_loss: 0.5921\n",
            "Epoch 12/35\n",
            "\u001b[1m576/576\u001b[0m \u001b[32m━━━━━━━━━━━━━━━━━━━━\u001b[0m\u001b[37m\u001b[0m \u001b[1m11s\u001b[0m 12ms/step - accuracy: 0.8510 - loss: 0.4163 - val_accuracy: 0.7983 - val_loss: 0.5656\n",
            "Epoch 13/35\n",
            "\u001b[1m576/576\u001b[0m \u001b[32m━━━━━━━━━━━━━━━━━━━━\u001b[0m\u001b[37m\u001b[0m \u001b[1m11s\u001b[0m 13ms/step - accuracy: 0.8649 - loss: 0.3852 - val_accuracy: 0.7989 - val_loss: 0.5681\n",
            "Epoch 14/35\n",
            "\u001b[1m576/576\u001b[0m \u001b[32m━━━━━━━━━━━━━━━━━━━━\u001b[0m\u001b[37m\u001b[0m \u001b[1m10s\u001b[0m 12ms/step - accuracy: 0.8747 - loss: 0.3646 - val_accuracy: 0.8093 - val_loss: 0.5508\n",
            "Epoch 15/35\n",
            "\u001b[1m576/576\u001b[0m \u001b[32m━━━━━━━━━━━━━━━━━━━━\u001b[0m\u001b[37m\u001b[0m \u001b[1m6s\u001b[0m 11ms/step - accuracy: 0.8812 - loss: 0.3380 - val_accuracy: 0.8161 - val_loss: 0.5434\n",
            "Epoch 16/35\n",
            "\u001b[1m576/576\u001b[0m \u001b[32m━━━━━━━━━━━━━━━━━━━━\u001b[0m\u001b[37m\u001b[0m \u001b[1m7s\u001b[0m 12ms/step - accuracy: 0.8914 - loss: 0.3179 - val_accuracy: 0.8247 - val_loss: 0.5375\n",
            "Epoch 17/35\n",
            "\u001b[1m576/576\u001b[0m \u001b[32m━━━━━━━━━━━━━━━━━━━━\u001b[0m\u001b[37m\u001b[0m \u001b[1m10s\u001b[0m 12ms/step - accuracy: 0.8999 - loss: 0.2866 - val_accuracy: 0.8241 - val_loss: 0.5666\n",
            "Epoch 18/35\n",
            "\u001b[1m576/576\u001b[0m \u001b[32m━━━━━━━━━━━━━━━━━━━━\u001b[0m\u001b[37m\u001b[0m \u001b[1m6s\u001b[0m 11ms/step - accuracy: 0.9086 - loss: 0.2743 - val_accuracy: 0.8319 - val_loss: 0.5334\n",
            "Epoch 19/35\n",
            "\u001b[1m576/576\u001b[0m \u001b[32m━━━━━━━━━━━━━━━━━━━━\u001b[0m\u001b[37m\u001b[0m \u001b[1m11s\u001b[0m 11ms/step - accuracy: 0.9124 - loss: 0.2581 - val_accuracy: 0.8404 - val_loss: 0.5364\n",
            "Epoch 20/35\n",
            "\u001b[1m576/576\u001b[0m \u001b[32m━━━━━━━━━━━━━━━━━━━━\u001b[0m\u001b[37m\u001b[0m \u001b[1m11s\u001b[0m 13ms/step - accuracy: 0.9212 - loss: 0.2349 - val_accuracy: 0.8432 - val_loss: 0.5238\n",
            "Epoch 21/35\n",
            "\u001b[1m576/576\u001b[0m \u001b[32m━━━━━━━━━━━━━━━━━━━━\u001b[0m\u001b[37m\u001b[0m \u001b[1m7s\u001b[0m 11ms/step - accuracy: 0.9249 - loss: 0.2175 - val_accuracy: 0.8438 - val_loss: 0.5606\n",
            "Epoch 22/35\n",
            "\u001b[1m576/576\u001b[0m \u001b[32m━━━━━━━━━━━━━━━━━━━━\u001b[0m\u001b[37m\u001b[0m \u001b[1m10s\u001b[0m 11ms/step - accuracy: 0.9265 - loss: 0.2120 - val_accuracy: 0.8473 - val_loss: 0.5549\n",
            "Epoch 23/35\n",
            "\u001b[1m576/576\u001b[0m \u001b[32m━━━━━━━━━━━━━━━━━━━━\u001b[0m\u001b[37m\u001b[0m \u001b[1m10s\u001b[0m 11ms/step - accuracy: 0.9306 - loss: 0.2000 - val_accuracy: 0.8507 - val_loss: 0.5597\n",
            "Epoch 24/35\n",
            "\u001b[1m576/576\u001b[0m \u001b[32m━━━━━━━━━━━━━━━━━━━━\u001b[0m\u001b[37m\u001b[0m \u001b[1m10s\u001b[0m 11ms/step - accuracy: 0.9361 - loss: 0.1884 - val_accuracy: 0.8543 - val_loss: 0.5739\n",
            "Epoch 25/35\n",
            "\u001b[1m576/576\u001b[0m \u001b[32m━━━━━━━━━━━━━━━━━━━━\u001b[0m\u001b[37m\u001b[0m \u001b[1m7s\u001b[0m 12ms/step - accuracy: 0.9414 - loss: 0.1684 - val_accuracy: 0.8551 - val_loss: 0.5595\n",
            "Epoch 26/35\n",
            "\u001b[1m576/576\u001b[0m \u001b[32m━━━━━━━━━━━━━━━━━━━━\u001b[0m\u001b[37m\u001b[0m \u001b[1m6s\u001b[0m 11ms/step - accuracy: 0.9423 - loss: 0.1676 - val_accuracy: 0.8588 - val_loss: 0.5701\n",
            "Epoch 27/35\n",
            "\u001b[1m576/576\u001b[0m \u001b[32m━━━━━━━━━━━━━━━━━━━━\u001b[0m\u001b[37m\u001b[0m \u001b[1m11s\u001b[0m 12ms/step - accuracy: 0.9494 - loss: 0.1455 - val_accuracy: 0.8627 - val_loss: 0.5747\n",
            "Epoch 28/35\n",
            "\u001b[1m576/576\u001b[0m \u001b[32m━━━━━━━━━━━━━━━━━━━━\u001b[0m\u001b[37m\u001b[0m \u001b[1m7s\u001b[0m 12ms/step - accuracy: 0.9508 - loss: 0.1459 - val_accuracy: 0.8573 - val_loss: 0.6035\n",
            "Epoch 29/35\n",
            "\u001b[1m576/576\u001b[0m \u001b[32m━━━━━━━━━━━━━━━━━━━━\u001b[0m\u001b[37m\u001b[0m \u001b[1m10s\u001b[0m 12ms/step - accuracy: 0.9554 - loss: 0.1295 - val_accuracy: 0.8651 - val_loss: 0.6057\n",
            "Epoch 30/35\n",
            "\u001b[1m576/576\u001b[0m \u001b[32m━━━━━━━━━━━━━━━━━━━━\u001b[0m\u001b[37m\u001b[0m \u001b[1m6s\u001b[0m 11ms/step - accuracy: 0.9560 - loss: 0.1287 - val_accuracy: 0.8654 - val_loss: 0.5998\n",
            "Epoch 31/35\n",
            "\u001b[1m576/576\u001b[0m \u001b[32m━━━━━━━━━━━━━━━━━━━━\u001b[0m\u001b[37m\u001b[0m \u001b[1m10s\u001b[0m 11ms/step - accuracy: 0.9575 - loss: 0.1223 - val_accuracy: 0.8618 - val_loss: 0.6042\n",
            "Epoch 32/35\n",
            "\u001b[1m576/576\u001b[0m \u001b[32m━━━━━━━━━━━━━━━━━━━━\u001b[0m\u001b[37m\u001b[0m \u001b[1m11s\u001b[0m 12ms/step - accuracy: 0.9602 - loss: 0.1136 - val_accuracy: 0.8690 - val_loss: 0.5988\n",
            "Epoch 33/35\n",
            "\u001b[1m576/576\u001b[0m \u001b[32m━━━━━━━━━━━━━━━━━━━━\u001b[0m\u001b[37m\u001b[0m \u001b[1m11s\u001b[0m 13ms/step - accuracy: 0.9601 - loss: 0.1132 - val_accuracy: 0.8641 - val_loss: 0.6458\n",
            "Epoch 34/35\n",
            "\u001b[1m576/576\u001b[0m \u001b[32m━━━━━━━━━━━━━━━━━━━━\u001b[0m\u001b[37m\u001b[0m \u001b[1m6s\u001b[0m 11ms/step - accuracy: 0.9611 - loss: 0.1098 - val_accuracy: 0.8673 - val_loss: 0.6095\n",
            "Epoch 35/35\n",
            "\u001b[1m576/576\u001b[0m \u001b[32m━━━━━━━━━━━━━━━━━━━━\u001b[0m\u001b[37m\u001b[0m \u001b[1m7s\u001b[0m 12ms/step - accuracy: 0.9661 - loss: 0.0973 - val_accuracy: 0.8693 - val_loss: 0.6251\n"
          ]
        }
      ]
    },
    {
      "cell_type": "code",
      "source": [
        "model_LSTM.summary()"
      ],
      "metadata": {
        "colab": {
          "base_uri": "https://localhost:8080/",
          "height": 391
        },
        "id": "ZrMTLmehvAaG",
        "outputId": "008fcfe2-a371-4683-c76f-1dbaa25a1ae9"
      },
      "execution_count": 37,
      "outputs": [
        {
          "output_type": "display_data",
          "data": {
            "text/plain": [
              "\u001b[1mModel: \"sequential_3\"\u001b[0m\n"
            ],
            "text/html": [
              "<pre style=\"white-space:pre;overflow-x:auto;line-height:normal;font-family:Menlo,'DejaVu Sans Mono',consolas,'Courier New',monospace\"><span style=\"font-weight: bold\">Model: \"sequential_3\"</span>\n",
              "</pre>\n"
            ]
          },
          "metadata": {}
        },
        {
          "output_type": "display_data",
          "data": {
            "text/plain": [
              "┏━━━━━━━━━━━━━━━━━━━━━━━━━━━━━━━━━┳━━━━━━━━━━━━━━━━━━━━━━━━┳━━━━━━━━━━━━━━━┓\n",
              "┃\u001b[1m \u001b[0m\u001b[1mLayer (type)                   \u001b[0m\u001b[1m \u001b[0m┃\u001b[1m \u001b[0m\u001b[1mOutput Shape          \u001b[0m\u001b[1m \u001b[0m┃\u001b[1m \u001b[0m\u001b[1m      Param #\u001b[0m\u001b[1m \u001b[0m┃\n",
              "┡━━━━━━━━━━━━━━━━━━━━━━━━━━━━━━━━━╇━━━━━━━━━━━━━━━━━━━━━━━━╇━━━━━━━━━━━━━━━┩\n",
              "│ embedding_2 (\u001b[38;5;33mEmbedding\u001b[0m)         │ (\u001b[38;5;45mNone\u001b[0m, \u001b[38;5;34m18\u001b[0m, \u001b[38;5;34m64\u001b[0m)         │        \u001b[38;5;34m64,000\u001b[0m │\n",
              "├─────────────────────────────────┼────────────────────────┼───────────────┤\n",
              "│ bidirectional_2 (\u001b[38;5;33mBidirectional\u001b[0m) │ (\u001b[38;5;45mNone\u001b[0m, \u001b[38;5;34m18\u001b[0m, \u001b[38;5;34m256\u001b[0m)        │       \u001b[38;5;34m197,632\u001b[0m │\n",
              "├─────────────────────────────────┼────────────────────────┼───────────────┤\n",
              "│ dropout_4 (\u001b[38;5;33mDropout\u001b[0m)             │ (\u001b[38;5;45mNone\u001b[0m, \u001b[38;5;34m18\u001b[0m, \u001b[38;5;34m256\u001b[0m)        │             \u001b[38;5;34m0\u001b[0m │\n",
              "├─────────────────────────────────┼────────────────────────┼───────────────┤\n",
              "│ lstm_3 (\u001b[38;5;33mLSTM\u001b[0m)                   │ (\u001b[38;5;45mNone\u001b[0m, \u001b[38;5;34m128\u001b[0m)            │       \u001b[38;5;34m197,120\u001b[0m │\n",
              "├─────────────────────────────────┼────────────────────────┼───────────────┤\n",
              "│ dropout_5 (\u001b[38;5;33mDropout\u001b[0m)             │ (\u001b[38;5;45mNone\u001b[0m, \u001b[38;5;34m128\u001b[0m)            │             \u001b[38;5;34m0\u001b[0m │\n",
              "├─────────────────────────────────┼────────────────────────┼───────────────┤\n",
              "│ dense_4 (\u001b[38;5;33mDense\u001b[0m)                 │ (\u001b[38;5;45mNone\u001b[0m, \u001b[38;5;34m64\u001b[0m)             │         \u001b[38;5;34m8,256\u001b[0m │\n",
              "├─────────────────────────────────┼────────────────────────┼───────────────┤\n",
              "│ dense_5 (\u001b[38;5;33mDense\u001b[0m)                 │ (\u001b[38;5;45mNone\u001b[0m, \u001b[38;5;34m4\u001b[0m)              │           \u001b[38;5;34m260\u001b[0m │\n",
              "└─────────────────────────────────┴────────────────────────┴───────────────┘\n"
            ],
            "text/html": [
              "<pre style=\"white-space:pre;overflow-x:auto;line-height:normal;font-family:Menlo,'DejaVu Sans Mono',consolas,'Courier New',monospace\">┏━━━━━━━━━━━━━━━━━━━━━━━━━━━━━━━━━┳━━━━━━━━━━━━━━━━━━━━━━━━┳━━━━━━━━━━━━━━━┓\n",
              "┃<span style=\"font-weight: bold\"> Layer (type)                    </span>┃<span style=\"font-weight: bold\"> Output Shape           </span>┃<span style=\"font-weight: bold\">       Param # </span>┃\n",
              "┡━━━━━━━━━━━━━━━━━━━━━━━━━━━━━━━━━╇━━━━━━━━━━━━━━━━━━━━━━━━╇━━━━━━━━━━━━━━━┩\n",
              "│ embedding_2 (<span style=\"color: #0087ff; text-decoration-color: #0087ff\">Embedding</span>)         │ (<span style=\"color: #00d7ff; text-decoration-color: #00d7ff\">None</span>, <span style=\"color: #00af00; text-decoration-color: #00af00\">18</span>, <span style=\"color: #00af00; text-decoration-color: #00af00\">64</span>)         │        <span style=\"color: #00af00; text-decoration-color: #00af00\">64,000</span> │\n",
              "├─────────────────────────────────┼────────────────────────┼───────────────┤\n",
              "│ bidirectional_2 (<span style=\"color: #0087ff; text-decoration-color: #0087ff\">Bidirectional</span>) │ (<span style=\"color: #00d7ff; text-decoration-color: #00d7ff\">None</span>, <span style=\"color: #00af00; text-decoration-color: #00af00\">18</span>, <span style=\"color: #00af00; text-decoration-color: #00af00\">256</span>)        │       <span style=\"color: #00af00; text-decoration-color: #00af00\">197,632</span> │\n",
              "├─────────────────────────────────┼────────────────────────┼───────────────┤\n",
              "│ dropout_4 (<span style=\"color: #0087ff; text-decoration-color: #0087ff\">Dropout</span>)             │ (<span style=\"color: #00d7ff; text-decoration-color: #00d7ff\">None</span>, <span style=\"color: #00af00; text-decoration-color: #00af00\">18</span>, <span style=\"color: #00af00; text-decoration-color: #00af00\">256</span>)        │             <span style=\"color: #00af00; text-decoration-color: #00af00\">0</span> │\n",
              "├─────────────────────────────────┼────────────────────────┼───────────────┤\n",
              "│ lstm_3 (<span style=\"color: #0087ff; text-decoration-color: #0087ff\">LSTM</span>)                   │ (<span style=\"color: #00d7ff; text-decoration-color: #00d7ff\">None</span>, <span style=\"color: #00af00; text-decoration-color: #00af00\">128</span>)            │       <span style=\"color: #00af00; text-decoration-color: #00af00\">197,120</span> │\n",
              "├─────────────────────────────────┼────────────────────────┼───────────────┤\n",
              "│ dropout_5 (<span style=\"color: #0087ff; text-decoration-color: #0087ff\">Dropout</span>)             │ (<span style=\"color: #00d7ff; text-decoration-color: #00d7ff\">None</span>, <span style=\"color: #00af00; text-decoration-color: #00af00\">128</span>)            │             <span style=\"color: #00af00; text-decoration-color: #00af00\">0</span> │\n",
              "├─────────────────────────────────┼────────────────────────┼───────────────┤\n",
              "│ dense_4 (<span style=\"color: #0087ff; text-decoration-color: #0087ff\">Dense</span>)                 │ (<span style=\"color: #00d7ff; text-decoration-color: #00d7ff\">None</span>, <span style=\"color: #00af00; text-decoration-color: #00af00\">64</span>)             │         <span style=\"color: #00af00; text-decoration-color: #00af00\">8,256</span> │\n",
              "├─────────────────────────────────┼────────────────────────┼───────────────┤\n",
              "│ dense_5 (<span style=\"color: #0087ff; text-decoration-color: #0087ff\">Dense</span>)                 │ (<span style=\"color: #00d7ff; text-decoration-color: #00d7ff\">None</span>, <span style=\"color: #00af00; text-decoration-color: #00af00\">4</span>)              │           <span style=\"color: #00af00; text-decoration-color: #00af00\">260</span> │\n",
              "└─────────────────────────────────┴────────────────────────┴───────────────┘\n",
              "</pre>\n"
            ]
          },
          "metadata": {}
        },
        {
          "output_type": "display_data",
          "data": {
            "text/plain": [
              "\u001b[1m Total params: \u001b[0m\u001b[38;5;34m1,401,806\u001b[0m (5.35 MB)\n"
            ],
            "text/html": [
              "<pre style=\"white-space:pre;overflow-x:auto;line-height:normal;font-family:Menlo,'DejaVu Sans Mono',consolas,'Courier New',monospace\"><span style=\"font-weight: bold\"> Total params: </span><span style=\"color: #00af00; text-decoration-color: #00af00\">1,401,806</span> (5.35 MB)\n",
              "</pre>\n"
            ]
          },
          "metadata": {}
        },
        {
          "output_type": "display_data",
          "data": {
            "text/plain": [
              "\u001b[1m Trainable params: \u001b[0m\u001b[38;5;34m467,268\u001b[0m (1.78 MB)\n"
            ],
            "text/html": [
              "<pre style=\"white-space:pre;overflow-x:auto;line-height:normal;font-family:Menlo,'DejaVu Sans Mono',consolas,'Courier New',monospace\"><span style=\"font-weight: bold\"> Trainable params: </span><span style=\"color: #00af00; text-decoration-color: #00af00\">467,268</span> (1.78 MB)\n",
              "</pre>\n"
            ]
          },
          "metadata": {}
        },
        {
          "output_type": "display_data",
          "data": {
            "text/plain": [
              "\u001b[1m Non-trainable params: \u001b[0m\u001b[38;5;34m0\u001b[0m (0.00 B)\n"
            ],
            "text/html": [
              "<pre style=\"white-space:pre;overflow-x:auto;line-height:normal;font-family:Menlo,'DejaVu Sans Mono',consolas,'Courier New',monospace\"><span style=\"font-weight: bold\"> Non-trainable params: </span><span style=\"color: #00af00; text-decoration-color: #00af00\">0</span> (0.00 B)\n",
              "</pre>\n"
            ]
          },
          "metadata": {}
        },
        {
          "output_type": "display_data",
          "data": {
            "text/plain": [
              "\u001b[1m Optimizer params: \u001b[0m\u001b[38;5;34m934,538\u001b[0m (3.56 MB)\n"
            ],
            "text/html": [
              "<pre style=\"white-space:pre;overflow-x:auto;line-height:normal;font-family:Menlo,'DejaVu Sans Mono',consolas,'Courier New',monospace\"><span style=\"font-weight: bold\"> Optimizer params: </span><span style=\"color: #00af00; text-decoration-color: #00af00\">934,538</span> (3.56 MB)\n",
              "</pre>\n"
            ]
          },
          "metadata": {}
        }
      ]
    },
    {
      "cell_type": "code",
      "source": [
        "# 7. Evaluate model\n",
        "test_loss, test_accuracy = model_LSTM.evaluate(X_test, y_test)\n",
        "print(f\"Test Accuracy: {test_accuracy:.4f}\")"
      ],
      "metadata": {
        "colab": {
          "base_uri": "https://localhost:8080/"
        },
        "id": "gJ1VWLMrNrdi",
        "outputId": "0d5b16f4-0473-47ea-8c77-2c8a93bed401"
      },
      "execution_count": 39,
      "outputs": [
        {
          "output_type": "stream",
          "name": "stdout",
          "text": [
            "\u001b[1m494/494\u001b[0m \u001b[32m━━━━━━━━━━━━━━━━━━━━\u001b[0m\u001b[37m\u001b[0m \u001b[1m2s\u001b[0m 5ms/step - accuracy: 0.8690 - loss: 0.6193\n",
            "Test Accuracy: 0.8693\n"
          ]
        }
      ]
    },
    {
      "cell_type": "code",
      "source": [
        "# 8. Plot learning curves\n",
        "plt.plot(history_LSTM.history['accuracy'], label='Train Acc')\n",
        "plt.plot(history_LSTM.history['val_accuracy'], label='Val Acc')\n",
        "plt.title('Accuracy')\n",
        "plt.legend()\n",
        "plt.show()\n",
        "\n",
        "plt.plot(history_LSTM.history['loss'], label='Train Loss')\n",
        "plt.plot(history_LSTM.history['val_loss'], label='Val Loss')\n",
        "plt.title('Loss')\n",
        "plt.legend()\n",
        "plt.show()"
      ],
      "metadata": {
        "colab": {
          "base_uri": "https://localhost:8080/",
          "height": 887
        },
        "id": "bz-_OwdYw8o8",
        "outputId": "c760eaf7-d9e5-4f13-a70f-96af592d331b"
      },
      "execution_count": 40,
      "outputs": [
        {
          "output_type": "display_data",
          "data": {
            "text/plain": [
              "<Figure size 640x480 with 1 Axes>"
            ],
            "image/png": "[encoded data removed]"
          },
          "metadata": {}
        },
        {
          "output_type": "display_data",
          "data": {
            "text/plain": [
              "<Figure size 640x480 with 1 Axes>"
            ],
            "image/png": "[encoded data removed]"
          },
          "metadata": {}
        }
      ]
    },
    {
      "cell_type": "code",
      "source": [
        "# Making Predictio on Test Data\n",
        "y_pred = model_LSTM.predict(X_test)\n",
        "y_result = []\n",
        "\n",
        "for pred in y_pred:\n",
        "    y_result.append(np.argmax(pred))\n",
        "\n",
        "y_actual = []\n",
        "\n",
        "for pred in y_test:\n",
        "    y_actual.append(np.argmax(pred))"
      ],
      "metadata": {
        "colab": {
          "base_uri": "https://localhost:8080/"
        },
        "id": "PaXSYoD0m5XI",
        "outputId": "4ca0cdcb-b446-4571-9dfa-54b137bc79d7"
      },
      "execution_count": 41,
      "outputs": [
        {
          "output_type": "stream",
          "name": "stderr",
          "text": [
            "WARNING:tensorflow:5 out of the last 497 calls to <function TensorFlowTrainer.make_predict_function.<locals>.one_step_on_data_distributed at 0x7b5cf5cab880> triggered tf.function retracing. Tracing is expensive and the excessive number of tracings could be due to (1) creating @tf.function repeatedly in a loop, (2) passing tensors with different shapes, (3) passing Python objects instead of tensors. For (1), please define your @tf.function outside of the loop. For (2), @tf.function has reduce_retracing=True option that can avoid unnecessary retracing. For (3), please refer to https://www.tensorflow.org/guide/function#controlling_retracing and https://www.tensorflow.org/api_docs/python/tf/function for  more details.\n"
          ]
        },
        {
          "output_type": "stream",
          "name": "stdout",
          "text": [
            "\u001b[1m494/494\u001b[0m \u001b[32m━━━━━━━━━━━━━━━━━━━━\u001b[0m\u001b[37m\u001b[0m \u001b[1m2s\u001b[0m 3ms/step\n"
          ]
        }
      ]
    },
    {
      "cell_type": "code",
      "source": [
        "# Getting Classification Report\n",
        "from sklearn.metrics import confusion_matrix, classification_report\n",
        "print(classification_report(y_actual, y_result))"
      ],
      "metadata": {
        "colab": {
          "base_uri": "https://localhost:8080/"
        },
        "id": "MXB25YUZm-Uf",
        "outputId": "1f8f9bad-191b-446e-8a63-a8b7aff5448b"
      },
      "execution_count": 42,
      "outputs": [
        {
          "output_type": "stream",
          "name": "stdout",
          "text": [
            "              precision    recall  f1-score   support\n",
            "\n",
            "           0       0.91      0.87      0.89      3922\n",
            "           1       0.82      0.82      0.82      3947\n",
            "           2       0.91      0.85      0.88      3942\n",
            "           3       0.85      0.93      0.89      3971\n",
            "\n",
            "    accuracy                           0.87     15782\n",
            "   macro avg       0.87      0.87      0.87     15782\n",
            "weighted avg       0.87      0.87      0.87     15782\n",
            "\n"
          ]
        }
      ]
    },
    {
      "cell_type": "code",
      "source": [
        "cm = tf.math.confusion_matrix(labels = y_actual, predictions = y_result)\n",
        "\n",
        "plt.figure(figsize = (17, 10))\n",
        "sns.heatmap(cm, annot = True, fmt = 'd', cmap=\"Greens\")\n",
        "plt.xlabel('Predicted')\n",
        "plt.ylabel('Truth')"
      ],
      "metadata": {
        "colab": {
          "base_uri": "https://localhost:8080/",
          "height": 654
        },
        "id": "E3b-KKf-nByC",
        "outputId": "f825d5ef-bc9a-4e13-b05c-413fa09a7cb1"
      },
      "execution_count": 43,
      "outputs": [
        {
          "output_type": "execute_result",
          "data": {
            "text/plain": [
              "Text(183.22222222222223, 0.5, 'Truth')"
            ]
          },
          "metadata": {},
          "execution_count": 43
        },
        {
          "output_type": "display_data",
          "data": {
            "text/plain": [
              "<Figure size 1700x1000 with 2 Axes>"
            ],
            "image/png": "[encoded data removed]"
          },
          "metadata": {}
        }
      ]
    },
    {
      "cell_type": "code",
      "source": [
        "model_RNN = Sequential()\n",
        "model_RNN.add(Embedding(input_dim=vocabulary_size, output_dim=embedding_dim, input_length=max_length))\n",
        "model_RNN.add(Bidirectional(SimpleRNN(32, return_sequences=True))),\n",
        "model_RNN.add(Dropout(0.5)),\n",
        "model_RNN.add(SimpleRNN(32)),\n",
        "model_RNN.add(Dropout(0.5)),\n",
        "model_RNN.add(Dense(64, activation='relu')),\n",
        "model_RNN.add(Dense(4, activation='softmax'))\n",
        "model_RNN.compile(loss='categorical_crossentropy', optimizer='adam', metrics=['accuracy'])\n"
      ],
      "metadata": {
        "colab": {
          "base_uri": "https://localhost:8080/"
        },
        "id": "lVlk2S1_f56Q",
        "outputId": "96d7c6f1-6b57-4ecf-947d-7abf073e9830"
      },
      "execution_count": 44,
      "outputs": [
        {
          "output_type": "stream",
          "name": "stderr",
          "text": [
            "/usr/local/lib/python3.11/dist-packages/keras/src/layers/core/embedding.py:90: UserWarning: Argument `input_length` is deprecated. Just remove it.\n",
            "  warnings.warn(\n"
          ]
        }
      ]
    },
    {
      "cell_type": "code",
      "source": [
        "model_RNN.build(input_shape=(None, max_length))"
      ],
      "metadata": {
        "id": "44VhrLAXga9o"
      },
      "execution_count": 45,
      "outputs": []
    },
    {
      "cell_type": "code",
      "source": [
        "model_RNN.summary()"
      ],
      "metadata": {
        "colab": {
          "base_uri": "https://localhost:8080/",
          "height": 374
        },
        "id": "rAu4YQdPglHE",
        "outputId": "9406e342-a50e-4f71-8f0d-642c256084f2"
      },
      "execution_count": 46,
      "outputs": [
        {
          "output_type": "display_data",
          "data": {
            "text/plain": [
              "\u001b[1mModel: \"sequential_4\"\u001b[0m\n"
            ],
            "text/html": [
              "<pre style=\"white-space:pre;overflow-x:auto;line-height:normal;font-family:Menlo,'DejaVu Sans Mono',consolas,'Courier New',monospace\"><span style=\"font-weight: bold\">Model: \"sequential_4\"</span>\n",
              "</pre>\n"
            ]
          },
          "metadata": {}
        },
        {
          "output_type": "display_data",
          "data": {
            "text/plain": [
              "┏━━━━━━━━━━━━━━━━━━━━━━━━━━━━━━━━━┳━━━━━━━━━━━━━━━━━━━━━━━━┳━━━━━━━━━━━━━━━┓\n",
              "┃\u001b[1m \u001b[0m\u001b[1mLayer (type)                   \u001b[0m\u001b[1m \u001b[0m┃\u001b[1m \u001b[0m\u001b[1mOutput Shape          \u001b[0m\u001b[1m \u001b[0m┃\u001b[1m \u001b[0m\u001b[1m      Param #\u001b[0m\u001b[1m \u001b[0m┃\n",
              "┡━━━━━━━━━━━━━━━━━━━━━━━━━━━━━━━━━╇━━━━━━━━━━━━━━━━━━━━━━━━╇━━━━━━━━━━━━━━━┩\n",
              "│ embedding_3 (\u001b[38;5;33mEmbedding\u001b[0m)         │ (\u001b[38;5;45mNone\u001b[0m, \u001b[38;5;34m10\u001b[0m, \u001b[38;5;34m64\u001b[0m)         │        \u001b[38;5;34m64,000\u001b[0m │\n",
              "├─────────────────────────────────┼────────────────────────┼───────────────┤\n",
              "│ bidirectional_3 (\u001b[38;5;33mBidirectional\u001b[0m) │ (\u001b[38;5;45mNone\u001b[0m, \u001b[38;5;34m10\u001b[0m, \u001b[38;5;34m64\u001b[0m)         │         \u001b[38;5;34m6,208\u001b[0m │\n",
              "├─────────────────────────────────┼────────────────────────┼───────────────┤\n",
              "│ dropout_6 (\u001b[38;5;33mDropout\u001b[0m)             │ (\u001b[38;5;45mNone\u001b[0m, \u001b[38;5;34m10\u001b[0m, \u001b[38;5;34m64\u001b[0m)         │             \u001b[38;5;34m0\u001b[0m │\n",
              "├─────────────────────────────────┼────────────────────────┼───────────────┤\n",
              "│ simple_rnn_3 (\u001b[38;5;33mSimpleRNN\u001b[0m)        │ (\u001b[38;5;45mNone\u001b[0m, \u001b[38;5;34m32\u001b[0m)             │         \u001b[38;5;34m3,104\u001b[0m │\n",
              "├─────────────────────────────────┼────────────────────────┼───────────────┤\n",
              "│ dropout_7 (\u001b[38;5;33mDropout\u001b[0m)             │ (\u001b[38;5;45mNone\u001b[0m, \u001b[38;5;34m32\u001b[0m)             │             \u001b[38;5;34m0\u001b[0m │\n",
              "├─────────────────────────────────┼────────────────────────┼───────────────┤\n",
              "│ dense_6 (\u001b[38;5;33mDense\u001b[0m)                 │ (\u001b[38;5;45mNone\u001b[0m, \u001b[38;5;34m64\u001b[0m)             │         \u001b[38;5;34m2,112\u001b[0m │\n",
              "├─────────────────────────────────┼────────────────────────┼───────────────┤\n",
              "│ dense_7 (\u001b[38;5;33mDense\u001b[0m)                 │ (\u001b[38;5;45mNone\u001b[0m, \u001b[38;5;34m4\u001b[0m)              │           \u001b[38;5;34m260\u001b[0m │\n",
              "└─────────────────────────────────┴────────────────────────┴───────────────┘\n"
            ],
            "text/html": [
              "<pre style=\"white-space:pre;overflow-x:auto;line-height:normal;font-family:Menlo,'DejaVu Sans Mono',consolas,'Courier New',monospace\">┏━━━━━━━━━━━━━━━━━━━━━━━━━━━━━━━━━┳━━━━━━━━━━━━━━━━━━━━━━━━┳━━━━━━━━━━━━━━━┓\n",
              "┃<span style=\"font-weight: bold\"> Layer (type)                    </span>┃<span style=\"font-weight: bold\"> Output Shape           </span>┃<span style=\"font-weight: bold\">       Param # </span>┃\n",
              "┡━━━━━━━━━━━━━━━━━━━━━━━━━━━━━━━━━╇━━━━━━━━━━━━━━━━━━━━━━━━╇━━━━━━━━━━━━━━━┩\n",
              "│ embedding_3 (<span style=\"color: #0087ff; text-decoration-color: #0087ff\">Embedding</span>)         │ (<span style=\"color: #00d7ff; text-decoration-color: #00d7ff\">None</span>, <span style=\"color: #00af00; text-decoration-color: #00af00\">10</span>, <span style=\"color: #00af00; text-decoration-color: #00af00\">64</span>)         │        <span style=\"color: #00af00; text-decoration-color: #00af00\">64,000</span> │\n",
              "├─────────────────────────────────┼────────────────────────┼───────────────┤\n",
              "│ bidirectional_3 (<span style=\"color: #0087ff; text-decoration-color: #0087ff\">Bidirectional</span>) │ (<span style=\"color: #00d7ff; text-decoration-color: #00d7ff\">None</span>, <span style=\"color: #00af00; text-decoration-color: #00af00\">10</span>, <span style=\"color: #00af00; text-decoration-color: #00af00\">64</span>)         │         <span style=\"color: #00af00; text-decoration-color: #00af00\">6,208</span> │\n",
              "├─────────────────────────────────┼────────────────────────┼───────────────┤\n",
              "│ dropout_6 (<span style=\"color: #0087ff; text-decoration-color: #0087ff\">Dropout</span>)             │ (<span style=\"color: #00d7ff; text-decoration-color: #00d7ff\">None</span>, <span style=\"color: #00af00; text-decoration-color: #00af00\">10</span>, <span style=\"color: #00af00; text-decoration-color: #00af00\">64</span>)         │             <span style=\"color: #00af00; text-decoration-color: #00af00\">0</span> │\n",
              "├─────────────────────────────────┼────────────────────────┼───────────────┤\n",
              "│ simple_rnn_3 (<span style=\"color: #0087ff; text-decoration-color: #0087ff\">SimpleRNN</span>)        │ (<span style=\"color: #00d7ff; text-decoration-color: #00d7ff\">None</span>, <span style=\"color: #00af00; text-decoration-color: #00af00\">32</span>)             │         <span style=\"color: #00af00; text-decoration-color: #00af00\">3,104</span> │\n",
              "├─────────────────────────────────┼────────────────────────┼───────────────┤\n",
              "│ dropout_7 (<span style=\"color: #0087ff; text-decoration-color: #0087ff\">Dropout</span>)             │ (<span style=\"color: #00d7ff; text-decoration-color: #00d7ff\">None</span>, <span style=\"color: #00af00; text-decoration-color: #00af00\">32</span>)             │             <span style=\"color: #00af00; text-decoration-color: #00af00\">0</span> │\n",
              "├─────────────────────────────────┼────────────────────────┼───────────────┤\n",
              "│ dense_6 (<span style=\"color: #0087ff; text-decoration-color: #0087ff\">Dense</span>)                 │ (<span style=\"color: #00d7ff; text-decoration-color: #00d7ff\">None</span>, <span style=\"color: #00af00; text-decoration-color: #00af00\">64</span>)             │         <span style=\"color: #00af00; text-decoration-color: #00af00\">2,112</span> │\n",
              "├─────────────────────────────────┼────────────────────────┼───────────────┤\n",
              "│ dense_7 (<span style=\"color: #0087ff; text-decoration-color: #0087ff\">Dense</span>)                 │ (<span style=\"color: #00d7ff; text-decoration-color: #00d7ff\">None</span>, <span style=\"color: #00af00; text-decoration-color: #00af00\">4</span>)              │           <span style=\"color: #00af00; text-decoration-color: #00af00\">260</span> │\n",
              "└─────────────────────────────────┴────────────────────────┴───────────────┘\n",
              "</pre>\n"
            ]
          },
          "metadata": {}
        },
        {
          "output_type": "display_data",
          "data": {
            "text/plain": [
              "\u001b[1m Total params: \u001b[0m\u001b[38;5;34m75,684\u001b[0m (295.64 KB)\n"
            ],
            "text/html": [
              "<pre style=\"white-space:pre;overflow-x:auto;line-height:normal;font-family:Menlo,'DejaVu Sans Mono',consolas,'Courier New',monospace\"><span style=\"font-weight: bold\"> Total params: </span><span style=\"color: #00af00; text-decoration-color: #00af00\">75,684</span> (295.64 KB)\n",
              "</pre>\n"
            ]
          },
          "metadata": {}
        },
        {
          "output_type": "display_data",
          "data": {
            "text/plain": [
              "\u001b[1m Trainable params: \u001b[0m\u001b[38;5;34m75,684\u001b[0m (295.64 KB)\n"
            ],
            "text/html": [
              "<pre style=\"white-space:pre;overflow-x:auto;line-height:normal;font-family:Menlo,'DejaVu Sans Mono',consolas,'Courier New',monospace\"><span style=\"font-weight: bold\"> Trainable params: </span><span style=\"color: #00af00; text-decoration-color: #00af00\">75,684</span> (295.64 KB)\n",
              "</pre>\n"
            ]
          },
          "metadata": {}
        },
        {
          "output_type": "display_data",
          "data": {
            "text/plain": [
              "\u001b[1m Non-trainable params: \u001b[0m\u001b[38;5;34m0\u001b[0m (0.00 B)\n"
            ],
            "text/html": [
              "<pre style=\"white-space:pre;overflow-x:auto;line-height:normal;font-family:Menlo,'DejaVu Sans Mono',consolas,'Courier New',monospace\"><span style=\"font-weight: bold\"> Non-trainable params: </span><span style=\"color: #00af00; text-decoration-color: #00af00\">0</span> (0.00 B)\n",
              "</pre>\n"
            ]
          },
          "metadata": {}
        }
      ]
    },
    {
      "cell_type": "code",
      "source": [
        "history_RNN=model_RNN.fit(X_train, y_train, epochs=35, batch_size=64, validation_data=(X_test, y_test))"
      ],
      "metadata": {
        "colab": {
          "base_uri": "https://localhost:8080/"
        },
        "id": "mm8xSFM9gquz",
        "outputId": "724d515e-9767-44e9-9980-d671696b2e24"
      },
      "execution_count": 47,
      "outputs": [
        {
          "output_type": "stream",
          "name": "stdout",
          "text": [
            "Epoch 1/35\n",
            "\u001b[1m576/576\u001b[0m \u001b[32m━━━━━━━━━━━━━━━━━━━━\u001b[0m\u001b[37m\u001b[0m \u001b[1m13s\u001b[0m 13ms/step - accuracy: 0.5978 - loss: 0.9841 - val_accuracy: 0.7109 - val_loss: 0.7332\n",
            "Epoch 2/35\n",
            "\u001b[1m576/576\u001b[0m \u001b[32m━━━━━━━━━━━━━━━━━━━━\u001b[0m\u001b[37m\u001b[0m \u001b[1m4s\u001b[0m 7ms/step - accuracy: 0.7088 - loss: 0.7467 - val_accuracy: 0.7247 - val_loss: 0.6948\n",
            "Epoch 3/35\n",
            "\u001b[1m576/576\u001b[0m \u001b[32m━━━━━━━━━━━━━━━━━━━━\u001b[0m\u001b[37m\u001b[0m \u001b[1m4s\u001b[0m 8ms/step - accuracy: 0.7441 - loss: 0.6716 - val_accuracy: 0.7567 - val_loss: 0.6342\n",
            "Epoch 4/35\n",
            "\u001b[1m576/576\u001b[0m \u001b[32m━━━━━━━━━━━━━━━━━━━━\u001b[0m\u001b[37m\u001b[0m \u001b[1m5s\u001b[0m 8ms/step - accuracy: 0.7725 - loss: 0.6070 - val_accuracy: 0.7628 - val_loss: 0.6269\n",
            "Epoch 5/35\n",
            "\u001b[1m576/576\u001b[0m \u001b[32m━━━━━━━━━━━━━━━━━━━━\u001b[0m\u001b[37m\u001b[0m \u001b[1m5s\u001b[0m 8ms/step - accuracy: 0.7926 - loss: 0.5611 - val_accuracy: 0.7803 - val_loss: 0.5930\n",
            "Epoch 6/35\n",
            "\u001b[1m576/576\u001b[0m \u001b[32m━━━━━━━━━━━━━━━━━━━━\u001b[0m\u001b[37m\u001b[0m \u001b[1m5s\u001b[0m 8ms/step - accuracy: 0.8078 - loss: 0.5274 - val_accuracy: 0.7814 - val_loss: 0.5971\n",
            "Epoch 7/35\n",
            "\u001b[1m576/576\u001b[0m \u001b[32m━━━━━━━━━━━━━━━━━━━━\u001b[0m\u001b[37m\u001b[0m \u001b[1m5s\u001b[0m 8ms/step - accuracy: 0.8246 - loss: 0.4911 - val_accuracy: 0.7870 - val_loss: 0.5900\n",
            "Epoch 8/35\n",
            "\u001b[1m576/576\u001b[0m \u001b[32m━━━━━━━━━━━━━━━━━━━━\u001b[0m\u001b[37m\u001b[0m \u001b[1m4s\u001b[0m 7ms/step - accuracy: 0.8306 - loss: 0.4628 - val_accuracy: 0.8015 - val_loss: 0.5788\n",
            "Epoch 9/35\n",
            "\u001b[1m576/576\u001b[0m \u001b[32m━━━━━━━━━━━━━━━━━━━━\u001b[0m\u001b[37m\u001b[0m \u001b[1m6s\u001b[0m 8ms/step - accuracy: 0.8437 - loss: 0.4460 - val_accuracy: 0.8069 - val_loss: 0.5682\n",
            "Epoch 10/35\n",
            "\u001b[1m576/576\u001b[0m \u001b[32m━━━━━━━━━━━━━━━━━━━━\u001b[0m\u001b[37m\u001b[0m \u001b[1m5s\u001b[0m 7ms/step - accuracy: 0.8487 - loss: 0.4263 - val_accuracy: 0.8043 - val_loss: 0.5733\n",
            "Epoch 11/35\n",
            "\u001b[1m576/576\u001b[0m \u001b[32m━━━━━━━━━━━━━━━━━━━━\u001b[0m\u001b[37m\u001b[0m \u001b[1m5s\u001b[0m 8ms/step - accuracy: 0.8594 - loss: 0.4036 - val_accuracy: 0.8097 - val_loss: 0.5858\n",
            "Epoch 12/35\n",
            "\u001b[1m576/576\u001b[0m \u001b[32m━━━━━━━━━━━━━━━━━━━━\u001b[0m\u001b[37m\u001b[0m \u001b[1m4s\u001b[0m 7ms/step - accuracy: 0.8716 - loss: 0.3778 - val_accuracy: 0.8138 - val_loss: 0.5778\n",
            "Epoch 13/35\n",
            "\u001b[1m576/576\u001b[0m \u001b[32m━━━━━━━━━━━━━━━━━━━━\u001b[0m\u001b[37m\u001b[0m \u001b[1m5s\u001b[0m 7ms/step - accuracy: 0.8738 - loss: 0.3655 - val_accuracy: 0.8260 - val_loss: 0.5539\n",
            "Epoch 14/35\n",
            "\u001b[1m576/576\u001b[0m \u001b[32m━━━━━━━━━━━━━━━━━━━━\u001b[0m\u001b[37m\u001b[0m \u001b[1m4s\u001b[0m 7ms/step - accuracy: 0.8800 - loss: 0.3512 - val_accuracy: 0.8294 - val_loss: 0.5369\n",
            "Epoch 15/35\n",
            "\u001b[1m576/576\u001b[0m \u001b[32m━━━━━━━━━━━━━━━━━━━━\u001b[0m\u001b[37m\u001b[0m \u001b[1m5s\u001b[0m 7ms/step - accuracy: 0.8870 - loss: 0.3339 - val_accuracy: 0.8273 - val_loss: 0.5509\n",
            "Epoch 16/35\n",
            "\u001b[1m576/576\u001b[0m \u001b[32m━━━━━━━━━━━━━━━━━━━━\u001b[0m\u001b[37m\u001b[0m \u001b[1m6s\u001b[0m 8ms/step - accuracy: 0.8905 - loss: 0.3239 - val_accuracy: 0.8298 - val_loss: 0.5648\n",
            "Epoch 17/35\n",
            "\u001b[1m576/576\u001b[0m \u001b[32m━━━━━━━━━━━━━━━━━━━━\u001b[0m\u001b[37m\u001b[0m \u001b[1m5s\u001b[0m 7ms/step - accuracy: 0.8953 - loss: 0.3081 - val_accuracy: 0.8333 - val_loss: 0.5455\n",
            "Epoch 18/35\n",
            "\u001b[1m576/576\u001b[0m \u001b[32m━━━━━━━━━━━━━━━━━━━━\u001b[0m\u001b[37m\u001b[0m \u001b[1m5s\u001b[0m 8ms/step - accuracy: 0.8997 - loss: 0.2957 - val_accuracy: 0.8392 - val_loss: 0.5519\n",
            "Epoch 19/35\n",
            "\u001b[1m576/576\u001b[0m \u001b[32m━━━━━━━━━━━━━━━━━━━━\u001b[0m\u001b[37m\u001b[0m \u001b[1m4s\u001b[0m 7ms/step - accuracy: 0.9047 - loss: 0.2807 - val_accuracy: 0.8441 - val_loss: 0.5544\n",
            "Epoch 20/35\n",
            "\u001b[1m576/576\u001b[0m \u001b[32m━━━━━━━━━━━━━━━━━━━━\u001b[0m\u001b[37m\u001b[0m \u001b[1m4s\u001b[0m 7ms/step - accuracy: 0.9095 - loss: 0.2695 - val_accuracy: 0.8387 - val_loss: 0.5766\n",
            "Epoch 21/35\n",
            "\u001b[1m576/576\u001b[0m \u001b[32m━━━━━━━━━━━━━━━━━━━━\u001b[0m\u001b[37m\u001b[0m \u001b[1m5s\u001b[0m 8ms/step - accuracy: 0.9114 - loss: 0.2652 - val_accuracy: 0.8475 - val_loss: 0.5555\n",
            "Epoch 22/35\n",
            "\u001b[1m576/576\u001b[0m \u001b[32m━━━━━━━━━━━━━━━━━━━━\u001b[0m\u001b[37m\u001b[0m \u001b[1m5s\u001b[0m 8ms/step - accuracy: 0.9146 - loss: 0.2515 - val_accuracy: 0.8533 - val_loss: 0.5483\n",
            "Epoch 23/35\n",
            "\u001b[1m576/576\u001b[0m \u001b[32m━━━━━━━━━━━━━━━━━━━━\u001b[0m\u001b[37m\u001b[0m \u001b[1m5s\u001b[0m 7ms/step - accuracy: 0.9232 - loss: 0.2335 - val_accuracy: 0.8483 - val_loss: 0.5517\n",
            "Epoch 24/35\n",
            "\u001b[1m576/576\u001b[0m \u001b[32m━━━━━━━━━━━━━━━━━━━━\u001b[0m\u001b[37m\u001b[0m \u001b[1m6s\u001b[0m 8ms/step - accuracy: 0.9260 - loss: 0.2292 - val_accuracy: 0.8490 - val_loss: 0.5604\n",
            "Epoch 25/35\n",
            "\u001b[1m576/576\u001b[0m \u001b[32m━━━━━━━━━━━━━━━━━━━━\u001b[0m\u001b[37m\u001b[0m \u001b[1m4s\u001b[0m 7ms/step - accuracy: 0.9263 - loss: 0.2198 - val_accuracy: 0.8505 - val_loss: 0.5581\n",
            "Epoch 26/35\n",
            "\u001b[1m576/576\u001b[0m \u001b[32m━━━━━━━━━━━━━━━━━━━━\u001b[0m\u001b[37m\u001b[0m \u001b[1m5s\u001b[0m 7ms/step - accuracy: 0.9299 - loss: 0.2093 - val_accuracy: 0.8541 - val_loss: 0.5631\n",
            "Epoch 27/35\n",
            "\u001b[1m576/576\u001b[0m \u001b[32m━━━━━━━━━━━━━━━━━━━━\u001b[0m\u001b[37m\u001b[0m \u001b[1m6s\u001b[0m 8ms/step - accuracy: 0.9318 - loss: 0.2081 - val_accuracy: 0.8526 - val_loss: 0.5660\n",
            "Epoch 28/35\n",
            "\u001b[1m576/576\u001b[0m \u001b[32m━━━━━━━━━━━━━━━━━━━━\u001b[0m\u001b[37m\u001b[0m \u001b[1m4s\u001b[0m 7ms/step - accuracy: 0.9342 - loss: 0.1986 - val_accuracy: 0.8547 - val_loss: 0.5627\n",
            "Epoch 29/35\n",
            "\u001b[1m576/576\u001b[0m \u001b[32m━━━━━━━━━━━━━━━━━━━━\u001b[0m\u001b[37m\u001b[0m \u001b[1m4s\u001b[0m 7ms/step - accuracy: 0.9349 - loss: 0.2037 - val_accuracy: 0.8550 - val_loss: 0.5724\n",
            "Epoch 30/35\n",
            "\u001b[1m576/576\u001b[0m \u001b[32m━━━━━━━━━━━━━━━━━━━━\u001b[0m\u001b[37m\u001b[0m \u001b[1m5s\u001b[0m 8ms/step - accuracy: 0.9359 - loss: 0.1953 - val_accuracy: 0.8592 - val_loss: 0.5694\n",
            "Epoch 31/35\n",
            "\u001b[1m576/576\u001b[0m \u001b[32m━━━━━━━━━━━━━━━━━━━━\u001b[0m\u001b[37m\u001b[0m \u001b[1m4s\u001b[0m 7ms/step - accuracy: 0.9364 - loss: 0.1950 - val_accuracy: 0.8581 - val_loss: 0.5939\n",
            "Epoch 32/35\n",
            "\u001b[1m576/576\u001b[0m \u001b[32m━━━━━━━━━━━━━━━━━━━━\u001b[0m\u001b[37m\u001b[0m \u001b[1m4s\u001b[0m 7ms/step - accuracy: 0.9363 - loss: 0.1893 - val_accuracy: 0.8584 - val_loss: 0.5732\n",
            "Epoch 33/35\n",
            "\u001b[1m576/576\u001b[0m \u001b[32m━━━━━━━━━━━━━━━━━━━━\u001b[0m\u001b[37m\u001b[0m \u001b[1m6s\u001b[0m 8ms/step - accuracy: 0.9396 - loss: 0.1803 - val_accuracy: 0.8605 - val_loss: 0.5787\n",
            "Epoch 34/35\n",
            "\u001b[1m576/576\u001b[0m \u001b[32m━━━━━━━━━━━━━━━━━━━━\u001b[0m\u001b[37m\u001b[0m \u001b[1m4s\u001b[0m 7ms/step - accuracy: 0.9430 - loss: 0.1729 - val_accuracy: 0.8605 - val_loss: 0.5827\n",
            "Epoch 35/35\n",
            "\u001b[1m576/576\u001b[0m \u001b[32m━━━━━━━━━━━━━━━━━━━━\u001b[0m\u001b[37m\u001b[0m \u001b[1m4s\u001b[0m 7ms/step - accuracy: 0.9439 - loss: 0.1713 - val_accuracy: 0.8595 - val_loss: 0.5995\n"
          ]
        }
      ]
    },
    {
      "cell_type": "code",
      "source": [
        "# 7. Evaluate model\n",
        "test_loss, test_accuracy = model_RNN.evaluate(X_test, y_test)\n",
        "print(f\"Test Accuracy: {test_accuracy:.4f}\")"
      ],
      "metadata": {
        "colab": {
          "base_uri": "https://localhost:8080/"
        },
        "id": "n0YmL5ZngyX8",
        "outputId": "e2e21aac-33cc-42a8-b6a0-79eff9f9c70a"
      },
      "execution_count": 48,
      "outputs": [
        {
          "output_type": "stream",
          "name": "stdout",
          "text": [
            "\u001b[1m494/494\u001b[0m \u001b[32m━━━━━━━━━━━━━━━━━━━━\u001b[0m\u001b[37m\u001b[0m \u001b[1m2s\u001b[0m 4ms/step - accuracy: 0.8581 - loss: 0.5952\n",
            "Test Accuracy: 0.8595\n"
          ]
        }
      ]
    },
    {
      "cell_type": "code",
      "source": [
        "# 8. Plot learning curves\n",
        "plt.plot(history_RNN.history['accuracy'], label='Train Acc')\n",
        "plt.plot(history_RNN.history['val_accuracy'], label='Val Acc')\n",
        "plt.title('Accuracy')\n",
        "plt.legend()\n",
        "plt.show()\n",
        "\n",
        "plt.plot(history_RNN.history['loss'], label='Train Loss')\n",
        "plt.plot(history_RNN.history['val_loss'], label='Val Loss')\n",
        "plt.title('Loss')\n",
        "plt.legend()\n",
        "plt.show()"
      ],
      "metadata": {
        "colab": {
          "base_uri": "https://localhost:8080/",
          "height": 887
        },
        "id": "wQCe_IkXkAWJ",
        "outputId": "f5a07f20-3a25-459e-c6aa-e44425a34f69"
      },
      "execution_count": 49,
      "outputs": [
        {
          "output_type": "display_data",
          "data": {
            "text/plain": [
              "<Figure size 640x480 with 1 Axes>"
            ],
            "image/png": "[encoded data removed]"
          },
          "metadata": {}
        },
        {
          "output_type": "display_data",
          "data": {
            "text/plain": [
              "<Figure size 640x480 with 1 Axes>"
            ],
            "image/png": "[encoded data removed]"
          },
          "metadata": {}
        }
      ]
    },
    {
      "cell_type": "code",
      "source": [
        "# Making Predictio on Test Data\n",
        "y_pred = model_RNN.predict(X_test)\n",
        "y_result = []\n",
        "\n",
        "for pred in y_pred:\n",
        "    y_result.append(np.argmax(pred))\n",
        "\n",
        "y_actual = []\n",
        "\n",
        "for pred in y_test:\n",
        "    y_actual.append(np.argmax(pred))"
      ],
      "metadata": {
        "colab": {
          "base_uri": "https://localhost:8080/"
        },
        "id": "ytmWwn-LmTnP",
        "outputId": "add72f3c-e80d-4490-e565-795820b056ab"
      },
      "execution_count": 50,
      "outputs": [
        {
          "output_type": "stream",
          "name": "stdout",
          "text": [
            "\u001b[1m494/494\u001b[0m \u001b[32m━━━━━━━━━━━━━━━━━━━━\u001b[0m\u001b[37m\u001b[0m \u001b[1m2s\u001b[0m 4ms/step\n"
          ]
        }
      ]
    },
    {
      "cell_type": "code",
      "source": [
        "# Getting Classification Report\n",
        "from sklearn.metrics import confusion_matrix, classification_report\n",
        "print(classification_report(y_actual, y_result))"
      ],
      "metadata": {
        "colab": {
          "base_uri": "https://localhost:8080/"
        },
        "id": "gBvHjyr4mVoE",
        "outputId": "871bb68b-ebee-47dc-dad0-74b8f1e35435"
      },
      "execution_count": 51,
      "outputs": [
        {
          "output_type": "stream",
          "name": "stdout",
          "text": [
            "              precision    recall  f1-score   support\n",
            "\n",
            "           0       0.90      0.86      0.88      3922\n",
            "           1       0.80      0.81      0.80      3947\n",
            "           2       0.87      0.86      0.87      3942\n",
            "           3       0.86      0.92      0.89      3971\n",
            "\n",
            "    accuracy                           0.86     15782\n",
            "   macro avg       0.86      0.86      0.86     15782\n",
            "weighted avg       0.86      0.86      0.86     15782\n",
            "\n"
          ]
        }
      ]
    },
    {
      "cell_type": "code",
      "source": [
        "cm = tf.math.confusion_matrix(labels = y_actual, predictions = y_result)\n",
        "\n",
        "plt.figure(figsize = (17, 10))\n",
        "sns.heatmap(cm, annot = True, fmt = 'd', cmap=\"Greens\")\n",
        "plt.xlabel('Predicted')\n",
        "plt.ylabel('Truth')"
      ],
      "metadata": {
        "colab": {
          "base_uri": "https://localhost:8080/",
          "height": 654
        },
        "id": "QogyT3pumZ1k",
        "outputId": "552e9aa8-0252-4707-eee6-908305c83f49"
      },
      "execution_count": 52,
      "outputs": [
        {
          "output_type": "execute_result",
          "data": {
            "text/plain": [
              "Text(183.22222222222223, 0.5, 'Truth')"
            ]
          },
          "metadata": {},
          "execution_count": 52
        },
        {
          "output_type": "display_data",
          "data": {
            "text/plain": [
              "<Figure size 1700x1000 with 2 Axes>"
            ],
            "image/png": "[encoded data removed]"
          },
          "metadata": {}
        }
      ]
    },
    {
      "cell_type": "code",
      "source": [
        "# Example input\n",
        "sample_text = \"i will kill me \"\n",
        "sample_seq = tokenizer.texts_to_sequences([sample_text])\n",
        "sample_pad = pad_sequences(sample_seq, maxlen=max_length, padding='post')\n",
        "\n",
        "# Predict using LSTM model\n",
        "lstm_pred = model_LSTM.predict(sample_pad)\n",
        "lstm_label = label_encoder.inverse_transform([np.argmax(lstm_pred)])[0]\n",
        "print(\"LSTM Model Prediction:\", lstm_label)\n",
        "\n",
        "# Predict using RNN model\n",
        "rnn_pred = model_RNN.predict(sample_pad)\n",
        "rnn_label = label_encoder.inverse_transform([np.argmax(rnn_pred)])[0]\n",
        "print(\"RNN Model Prediction:\", rnn_label)"
      ],
      "metadata": {
        "colab": {
          "base_uri": "https://localhost:8080/"
        },
        "id": "s3zStiu1xBVz",
        "outputId": "dc3c743b-cd6c-4b70-aec9-0a195dc2b29d"
      },
      "execution_count": 55,
      "outputs": [
        {
          "output_type": "stream",
          "name": "stdout",
          "text": [
            "\u001b[1m1/1\u001b[0m \u001b[32m━━━━━━━━━━━━━━━━━━━━\u001b[0m\u001b[37m\u001b[0m \u001b[1m0s\u001b[0m 45ms/step\n",
            "LSTM Model Prediction: Moderate Risk\n",
            "\u001b[1m1/1\u001b[0m \u001b[32m━━━━━━━━━━━━━━━━━━━━\u001b[0m\u001b[37m\u001b[0m \u001b[1m0s\u001b[0m 43ms/step\n",
            "RNN Model Prediction: High Risk\n"
          ]
        }
      ]
    }
  ]
}